{
 "cells": [
  {
   "cell_type": "markdown",
   "id": "4bbbb7bb-82fe-4882-b1e5-f6a01a640fb2",
   "metadata": {},
   "source": [
    "# Residential Tree Planting project data prep"
   ]
  },
  {
   "cell_type": "markdown",
   "id": "756ac516-3d1b-4667-9ca7-76c7d7a9905e",
   "metadata": {},
   "source": [
    "## Loading and formatting data"
   ]
  },
  {
   "cell_type": "code",
   "execution_count": 758,
   "id": "7b70b8c1-4d78-42a1-a18f-ae809b1943d8",
   "metadata": {},
   "outputs": [],
   "source": [
    "import pandas as pd\n",
    "import os\n",
    "import numpy as np\n",
    "import geopy"
   ]
  },
  {
   "cell_type": "code",
   "execution_count": 759,
   "id": "0e6c9607-93ac-4e69-abf9-bc314a4069c0",
   "metadata": {},
   "outputs": [
    {
     "data": {
      "text/plain": [
       "['fall_2023.xlsx',\n",
       " 'fall_2024.xlsx',\n",
       " 'fall_2025.xlsx',\n",
       " 'spring_2023.xlsx',\n",
       " 'spring_2024_1.xlsx',\n",
       " 'spring_2024_2.xlsx',\n",
       " 'spring_2025.xlsx']"
      ]
     },
     "execution_count": 759,
     "metadata": {},
     "output_type": "execute_result"
    }
   ],
   "source": [
    "#Rename excel files\n",
    "old_names = list(os.listdir('./data'))\n",
    "\n",
    "for i in old_names:\n",
    "    if '.xlsx' not in i:\n",
    "        old_names.remove(i)\n",
    "\n",
    "old_names"
   ]
  },
  {
   "cell_type": "code",
   "execution_count": 760,
   "id": "67fc2d34-9949-4b86-a9c9-4676b24142e0",
   "metadata": {},
   "outputs": [
    {
     "data": {
      "text/plain": [
       "['fall_2023.xlsx',\n",
       " 'fall_2024.xlsx',\n",
       " 'fall_2025.xlsx',\n",
       " 'spring_2023.xlsx',\n",
       " 'spring_2024_1.xlsx',\n",
       " 'spring_2024_2.xlsx',\n",
       " 'spring_2025.xlsx']"
      ]
     },
     "execution_count": 760,
     "metadata": {},
     "output_type": "execute_result"
    }
   ],
   "source": [
    "new_names = []\n",
    "for i in old_names:\n",
    "    new_name = i.lower().replace(\" \",\"_\").strip()\n",
    "    new_name = new_name.replace(\"casey_\", \"\").replace(\"tree_\",\"\").replace(\"trees_\",\"\").replace(\"planting_\",\"\")\n",
    "    new_names.append(new_name)\n",
    "\n",
    "new_names"
   ]
  },
  {
   "cell_type": "code",
   "execution_count": 761,
   "id": "83cf0153-6cf2-4635-82d7-ebe001c79d07",
   "metadata": {},
   "outputs": [],
   "source": [
    "# ALREADY CHANGED NAMES THEREFORE NOT NECESSARY\n",
    "# new_names[1] = 'spring_2023.xlsx'\n",
    "# new_names[2] = 'spring_2024_2.xlsx'\n",
    "# new_names[4] = 'fall_2024.xlsx'\n",
    "# new_names[6] = 'spring_2024_1.xlsx'\n",
    "\n",
    "# new_names"
   ]
  },
  {
   "cell_type": "code",
   "execution_count": 762,
   "id": "f7f050d3-790a-4fc7-905e-aad3e8b4fd38",
   "metadata": {},
   "outputs": [],
   "source": [
    "# ALREADY CHANGED NAMES THEREFORE NOT NECESSARY\n",
    "# for i in old_names:\n",
    "#     os.rename(i, new_names[old_names.index(i)])"
   ]
  },
  {
   "cell_type": "code",
   "execution_count": 763,
   "id": "ff6540ad-97ce-4573-94c4-9a1cd883bc40",
   "metadata": {},
   "outputs": [
    {
     "name": "stderr",
     "output_type": "stream",
     "text": [
      "C:\\Users\\pmedina\\AppData\\Local\\anaconda3\\Lib\\site-packages\\openpyxl\\worksheet\\_read_only.py:85: UserWarning: Data Validation extension is not supported and will be removed\n",
      "  for idx, row in parser.parse():\n"
     ]
    }
   ],
   "source": [
    "# Read files into df\n",
    "dfs = {}\n",
    "for i in new_names:\n",
    "    dfs[i] = pd.read_excel((\"./data/\"+i), header=0)"
   ]
  },
  {
   "cell_type": "code",
   "execution_count": 764,
   "id": "79c8e683-feef-4689-ac63-2c1d49932b58",
   "metadata": {},
   "outputs": [
    {
     "data": {
      "text/plain": [
       "dict_keys(['fall_2023.xlsx', 'fall_2024.xlsx', 'fall_2025.xlsx', 'spring_2023.xlsx', 'spring_2024_1.xlsx', 'spring_2024_2.xlsx', 'spring_2025.xlsx'])"
      ]
     },
     "execution_count": 764,
     "metadata": {},
     "output_type": "execute_result"
    }
   ],
   "source": [
    "dfs.keys()"
   ]
  },
  {
   "cell_type": "markdown",
   "id": "e908d873-95ef-450c-9bd8-3e70288fe8d7",
   "metadata": {},
   "source": [
    "## Formatting data"
   ]
  },
  {
   "cell_type": "markdown",
   "id": "94fc3b28-1882-48d6-8ff1-71e052b560c8",
   "metadata": {},
   "source": [
    "### Formatting functions"
   ]
  },
  {
   "cell_type": "code",
   "execution_count": 765,
   "id": "bdb60887-42f0-4920-9811-e277f4e6bf9c",
   "metadata": {},
   "outputs": [],
   "source": [
    "# Variable name formatting\n",
    "def clean_column_names(df):\n",
    "    df.columns = (df.columns\n",
    "               .str.strip()\n",
    "               .str.lower()\n",
    "               .str.replace(\" \", \"_\")\n",
    "               .str.replace(\";\",\"\")\n",
    "               .str.replace(\"\\\\t\",\"\")\n",
    "               .str.replace(\"[()€$]\", \"\",\n",
    "\n",
    "                            regex=True))\n",
    "    return df"
   ]
  },
  {
   "cell_type": "code",
   "execution_count": 766,
   "id": "23b62c35-d7f7-4e80-a0f9-20aefa7c227e",
   "metadata": {},
   "outputs": [],
   "source": [
    "def update_species(df):\n",
    "    for index, row in df.iterrows():\n",
    "        if ',' in row['species_1']:\n",
    "            species = df.loc[index, 'species_1'].split(',')\n",
    "            species_1 = species[0]\n",
    "            species_2 = species[1]\n",
    "            df.loc[index, 'species_1'] = species_1\n",
    "            df.loc[index, 'species_2'] = species_2\n",
    "        elif '2' in row['species_1']:\n",
    "            species = row['species_1'].strip().replace('2','').replace('()','')\n",
    "            df.loc[index, 'species_1'] = species\n",
    "            df.loc[index, 'species_2'] = species\n",
    "        else:\n",
    "            row['species_2'] = ''\n",
    "    return df"
   ]
  },
  {
   "cell_type": "code",
   "execution_count": 767,
   "id": "239cb1d0-8352-42a7-af10-3465efedce9a",
   "metadata": {},
   "outputs": [],
   "source": [
    "def column_clean(df):\n",
    "    del_words = ['application', 'name','email','casey','form','contact','area','inspection','date','phone']\n",
    "    column_list = list(df.columns)\n",
    "    columns_to_drop = []\n",
    "\n",
    "    for column_name in column_list:\n",
    "        if 'unnamed' in column_name:\n",
    "            new_column_names = list(df.loc[0,])\n",
    "            df.columns = new_column_names\n",
    "            df.drop(index=df.index[0], axis=0, inplace=True)\n",
    "            break\n",
    "        \n",
    "    for column_name in column_list:\n",
    "        for word in del_words:\n",
    "            if word in column_name:\n",
    "                if column_name not in columns_to_drop:\n",
    "                    columns_to_drop.append(column_name)\n",
    "\n",
    "    df.drop(columns=columns_to_drop, axis = 1, inplace = True)\n",
    "\n",
    "    for column_name in column_list:\n",
    "        if \"species\" in column_name:\n",
    "            df.rename(columns={column_name:'species_1'}, inplace = True)\n",
    "            \n",
    "    return df\n",
    "            "
   ]
  },
  {
   "cell_type": "code",
   "execution_count": 768,
   "id": "b596c0a8-5e0c-4cfa-af73-9faa65e41a68",
   "metadata": {},
   "outputs": [],
   "source": [
    "def format_table(df, year):\n",
    "    df = clean_column_names(df)\n",
    "    column_clean(df)\n",
    "    df = update_species(df)\n",
    "    df['year'] = year\n",
    "    return df"
   ]
  },
  {
   "cell_type": "code",
   "execution_count": 769,
   "id": "913fbde6-fd64-4edf-bba4-9fff73529ae5",
   "metadata": {},
   "outputs": [],
   "source": [
    "for i in dfs:\n",
    "    clean_column_names(dfs[i])"
   ]
  },
  {
   "cell_type": "code",
   "execution_count": 770,
   "id": "447f3374-79a9-4549-84a5-79ca8731c312",
   "metadata": {},
   "outputs": [],
   "source": [
    "spring_2023 = dfs['spring_2023.xlsx']\n",
    "fall_2023 = dfs['fall_2023.xlsx']\n",
    "spring_2024_2 = dfs['spring_2024_2.xlsx']\n",
    "fall_2025 = dfs['fall_2025.xlsx']\n",
    "fall_2024 = dfs['fall_2024.xlsx']\n",
    "spring_2025 = dfs['spring_2025.xlsx']\n",
    "spring_2024_1 = dfs['spring_2024_1.xlsx']"
   ]
  },
  {
   "cell_type": "markdown",
   "id": "cb43620c-9d0b-4a7d-a917-787a283320d1",
   "metadata": {},
   "source": [
    "### Spring 2023"
   ]
  },
  {
   "cell_type": "code",
   "execution_count": 771,
   "id": "6f6532e5-783b-4979-b9d5-5a936ea608d4",
   "metadata": {},
   "outputs": [
    {
     "data": {
      "text/html": [
       "<div>\n",
       "<style scoped>\n",
       "    .dataframe tbody tr th:only-of-type {\n",
       "        vertical-align: middle;\n",
       "    }\n",
       "\n",
       "    .dataframe tbody tr th {\n",
       "        vertical-align: top;\n",
       "    }\n",
       "\n",
       "    .dataframe thead th {\n",
       "        text-align: right;\n",
       "    }\n",
       "</style>\n",
       "<table border=\"1\" class=\"dataframe\">\n",
       "  <thead>\n",
       "    <tr style=\"text-align: right;\">\n",
       "      <th></th>\n",
       "      <th>application_date_planting_on_resid_property</th>\n",
       "      <th>area</th>\n",
       "      <th>district_#</th>\n",
       "      <th>first_and_last_name:</th>\n",
       "      <th>email_address:</th>\n",
       "      <th>phone_number:</th>\n",
       "      <th>address:</th>\n",
       "      <th>preferred_contact</th>\n",
       "      <th>consultation_date</th>\n",
       "      <th>casey_trees_date_planted</th>\n",
       "      <th>city_inspection_date</th>\n",
       "      <th>species_planted</th>\n",
       "      <th>notes_casey_trees</th>\n",
       "    </tr>\n",
       "  </thead>\n",
       "  <tbody>\n",
       "    <tr>\n",
       "      <th>0</th>\n",
       "      <td>2022-05-14 21:50:25</td>\n",
       "      <td>Daniels Pk E</td>\n",
       "      <td>1</td>\n",
       "      <td>Kirstin Showalter</td>\n",
       "      <td>kirstinsd@gmail.com</td>\n",
       "      <td>7346492987</td>\n",
       "      <td>5121 Kenesaw St</td>\n",
       "      <td>Email</td>\n",
       "      <td>2023-02-28</td>\n",
       "      <td>NaN</td>\n",
       "      <td>NaN</td>\n",
       "      <td>A.Hornbeam, Wil Oak</td>\n",
       "      <td>match</td>\n",
       "    </tr>\n",
       "    <tr>\n",
       "      <th>1</th>\n",
       "      <td>2022-11-11 13:10:39</td>\n",
       "      <td>Daniels Pk W</td>\n",
       "      <td>1</td>\n",
       "      <td>Anne Tolbert</td>\n",
       "      <td>ktolbertmd@gmail.com</td>\n",
       "      <td>301-613-3496</td>\n",
       "      <td>4908 Hollywood Rd</td>\n",
       "      <td>Email</td>\n",
       "      <td>2023-03-01</td>\n",
       "      <td>NaN</td>\n",
       "      <td>NaN</td>\n",
       "      <td>(2) Willow Oaks</td>\n",
       "      <td>no map</td>\n",
       "    </tr>\n",
       "    <tr>\n",
       "      <th>2</th>\n",
       "      <td>2023-02-14 11:03:46</td>\n",
       "      <td>Oak Sps W</td>\n",
       "      <td>1</td>\n",
       "      <td>Frances Sutphen</td>\n",
       "      <td>healingfls@verizon.net</td>\n",
       "      <td>13013950486</td>\n",
       "      <td>4822 Erie Street</td>\n",
       "      <td>Phone</td>\n",
       "      <td>2023-03-01</td>\n",
       "      <td>NaN</td>\n",
       "      <td>NaN</td>\n",
       "      <td>S. Magnolia</td>\n",
       "      <td>match</td>\n",
       "    </tr>\n",
       "    <tr>\n",
       "      <th>3</th>\n",
       "      <td>2023-02-24 08:53:47</td>\n",
       "      <td>Hollywood E</td>\n",
       "      <td>1</td>\n",
       "      <td>Donald Hays</td>\n",
       "      <td>hays.donald@gmail.com</td>\n",
       "      <td>270-320-2950</td>\n",
       "      <td>5017 Laguna Road</td>\n",
       "      <td>NaN</td>\n",
       "      <td>2023-02-27</td>\n",
       "      <td>NaN</td>\n",
       "      <td>NaN</td>\n",
       "      <td>S. Magnolia</td>\n",
       "      <td>match</td>\n",
       "    </tr>\n",
       "    <tr>\n",
       "      <th>4</th>\n",
       "      <td>2022-05-09 19:33:25</td>\n",
       "      <td>Autoville</td>\n",
       "      <td>1</td>\n",
       "      <td>Alan Hew</td>\n",
       "      <td>alanhew@gmail.com</td>\n",
       "      <td>3014047519</td>\n",
       "      <td>9118 Autoville Dr.</td>\n",
       "      <td>Email</td>\n",
       "      <td>2023-02-28</td>\n",
       "      <td>NaN</td>\n",
       "      <td>NaN</td>\n",
       "      <td>Am. Witch Hazel</td>\n",
       "      <td>match</td>\n",
       "    </tr>\n",
       "  </tbody>\n",
       "</table>\n",
       "</div>"
      ],
      "text/plain": [
       "  application_date_planting_on_resid_property          area  district_#  \\\n",
       "0                         2022-05-14 21:50:25  Daniels Pk E           1   \n",
       "1                         2022-11-11 13:10:39  Daniels Pk W           1   \n",
       "2                         2023-02-14 11:03:46     Oak Sps W           1   \n",
       "3                         2023-02-24 08:53:47   Hollywood E           1   \n",
       "4                         2022-05-09 19:33:25     Autoville           1   \n",
       "\n",
       "  first_and_last_name:          email_address: phone_number:  \\\n",
       "0    Kirstin Showalter     kirstinsd@gmail.com    7346492987   \n",
       "1         Anne Tolbert    ktolbertmd@gmail.com  301-613-3496   \n",
       "2      Frances Sutphen  healingfls@verizon.net   13013950486   \n",
       "3          Donald Hays   hays.donald@gmail.com  270-320-2950   \n",
       "4             Alan Hew       alanhew@gmail.com    3014047519   \n",
       "\n",
       "              address: preferred_contact consultation_date  \\\n",
       "0      5121 Kenesaw St             Email        2023-02-28   \n",
       "1    4908 Hollywood Rd             Email        2023-03-01   \n",
       "2     4822 Erie Street             Phone        2023-03-01   \n",
       "3     5017 Laguna Road               NaN        2023-02-27   \n",
       "4  9118 Autoville Dr.              Email        2023-02-28   \n",
       "\n",
       "   casey_trees_date_planted  city_inspection_date      species_planted  \\\n",
       "0                       NaN                   NaN  A.Hornbeam, Wil Oak   \n",
       "1                       NaN                   NaN      (2) Willow Oaks   \n",
       "2                       NaN                   NaN          S. Magnolia   \n",
       "3                       NaN                   NaN          S. Magnolia   \n",
       "4                       NaN                   NaN      Am. Witch Hazel   \n",
       "\n",
       "  notes_casey_trees  \n",
       "0             match  \n",
       "1            no map  \n",
       "2             match  \n",
       "3             match  \n",
       "4             match  "
      ]
     },
     "execution_count": 771,
     "metadata": {},
     "output_type": "execute_result"
    }
   ],
   "source": [
    "spring_2023.head(5)"
   ]
  },
  {
   "cell_type": "code",
   "execution_count": 772,
   "id": "a8d3d915-0ca8-4f1c-92d9-5c2c105f4c1b",
   "metadata": {},
   "outputs": [
    {
     "data": {
      "text/html": [
       "<div>\n",
       "<style scoped>\n",
       "    .dataframe tbody tr th:only-of-type {\n",
       "        vertical-align: middle;\n",
       "    }\n",
       "\n",
       "    .dataframe tbody tr th {\n",
       "        vertical-align: top;\n",
       "    }\n",
       "\n",
       "    .dataframe thead th {\n",
       "        text-align: right;\n",
       "    }\n",
       "</style>\n",
       "<table border=\"1\" class=\"dataframe\">\n",
       "  <thead>\n",
       "    <tr style=\"text-align: right;\">\n",
       "      <th></th>\n",
       "      <th>district_#</th>\n",
       "      <th>address:</th>\n",
       "      <th>species_1</th>\n",
       "      <th>species_2</th>\n",
       "      <th>year</th>\n",
       "    </tr>\n",
       "  </thead>\n",
       "  <tbody>\n",
       "    <tr>\n",
       "      <th>0</th>\n",
       "      <td>1</td>\n",
       "      <td>5121 Kenesaw St</td>\n",
       "      <td>A.Hornbeam</td>\n",
       "      <td>Wil Oak</td>\n",
       "      <td>2023</td>\n",
       "    </tr>\n",
       "    <tr>\n",
       "      <th>1</th>\n",
       "      <td>1</td>\n",
       "      <td>4908 Hollywood Rd</td>\n",
       "      <td>Willow Oaks</td>\n",
       "      <td>Willow Oaks</td>\n",
       "      <td>2023</td>\n",
       "    </tr>\n",
       "    <tr>\n",
       "      <th>2</th>\n",
       "      <td>1</td>\n",
       "      <td>4822 Erie Street</td>\n",
       "      <td>S. Magnolia</td>\n",
       "      <td>NaN</td>\n",
       "      <td>2023</td>\n",
       "    </tr>\n",
       "    <tr>\n",
       "      <th>3</th>\n",
       "      <td>1</td>\n",
       "      <td>5017 Laguna Road</td>\n",
       "      <td>S. Magnolia</td>\n",
       "      <td>NaN</td>\n",
       "      <td>2023</td>\n",
       "    </tr>\n",
       "    <tr>\n",
       "      <th>4</th>\n",
       "      <td>1</td>\n",
       "      <td>9118 Autoville Dr.</td>\n",
       "      <td>Am. Witch Hazel</td>\n",
       "      <td>NaN</td>\n",
       "      <td>2023</td>\n",
       "    </tr>\n",
       "  </tbody>\n",
       "</table>\n",
       "</div>"
      ],
      "text/plain": [
       "   district_#             address:        species_1     species_2  year\n",
       "0           1      5121 Kenesaw St       A.Hornbeam       Wil Oak  2023\n",
       "1           1    4908 Hollywood Rd      Willow Oaks   Willow Oaks  2023\n",
       "2           1     4822 Erie Street      S. Magnolia           NaN  2023\n",
       "3           1     5017 Laguna Road      S. Magnolia           NaN  2023\n",
       "4           1  9118 Autoville Dr.   Am. Witch Hazel           NaN  2023"
      ]
     },
     "execution_count": 772,
     "metadata": {},
     "output_type": "execute_result"
    }
   ],
   "source": [
    "format_table(spring_2023, 2023)\n",
    "spring_2023.head(5)"
   ]
  },
  {
   "cell_type": "markdown",
   "id": "8331e631-de7f-41df-9eb0-d71aea959fad",
   "metadata": {},
   "source": [
    "### Fall 2023"
   ]
  },
  {
   "cell_type": "code",
   "execution_count": 773,
   "id": "14ed80ba-01cf-4da0-a31a-69a6ba8e828d",
   "metadata": {},
   "outputs": [
    {
     "data": {
      "text/html": [
       "<div>\n",
       "<style scoped>\n",
       "    .dataframe tbody tr th:only-of-type {\n",
       "        vertical-align: middle;\n",
       "    }\n",
       "\n",
       "    .dataframe tbody tr th {\n",
       "        vertical-align: top;\n",
       "    }\n",
       "\n",
       "    .dataframe thead th {\n",
       "        text-align: right;\n",
       "    }\n",
       "</style>\n",
       "<table border=\"1\" class=\"dataframe\">\n",
       "  <thead>\n",
       "    <tr style=\"text-align: right;\">\n",
       "      <th></th>\n",
       "      <th>casey_tree_planting_on_private_property_fall_2023</th>\n",
       "      <th>unnamed:_1</th>\n",
       "      <th>unnamed:_2</th>\n",
       "      <th>unnamed:_3</th>\n",
       "      <th>unnamed:_4</th>\n",
       "      <th>unnamed:_5</th>\n",
       "      <th>unnamed:_6</th>\n",
       "      <th>unnamed:_7</th>\n",
       "      <th>unnamed:_8</th>\n",
       "      <th>unnamed:_9</th>\n",
       "      <th>unnamed:_10</th>\n",
       "      <th>unnamed:_11</th>\n",
       "      <th>unnamed:_12</th>\n",
       "    </tr>\n",
       "  </thead>\n",
       "  <tbody>\n",
       "    <tr>\n",
       "      <th>0</th>\n",
       "      <td>Application Date; Planting on Residential Prop...</td>\n",
       "      <td>Area</td>\n",
       "      <td>District #</td>\n",
       "      <td>First and Last Name:</td>\n",
       "      <td>Email Address:</td>\n",
       "      <td>Phone Number</td>\n",
       "      <td>Address:</td>\n",
       "      <td>Preferred Contact</td>\n",
       "      <td>Consultation date</td>\n",
       "      <td>Casey Trees date planted</td>\n",
       "      <td>City inspection date</td>\n",
       "      <td>Species planted</td>\n",
       "      <td>Hold Harmless Form completed</td>\n",
       "    </tr>\n",
       "    <tr>\n",
       "      <th>1</th>\n",
       "      <td>2022-06-25 00:00:00</td>\n",
       "      <td>CP Estates</td>\n",
       "      <td>3</td>\n",
       "      <td>Andrew Stephens</td>\n",
       "      <td>andrewstephens11@gmail.com</td>\n",
       "      <td>202-550-5392</td>\n",
       "      <td>7512 Wellesley Dr</td>\n",
       "      <td>email</td>\n",
       "      <td>2023-06-08 00:00:00</td>\n",
       "      <td>2024-10-30 00:00:00</td>\n",
       "      <td>2023-11-17 00:00:00</td>\n",
       "      <td>American Linden</td>\n",
       "      <td>X</td>\n",
       "    </tr>\n",
       "    <tr>\n",
       "      <th>2</th>\n",
       "      <td>2022-07-01 00:00:00</td>\n",
       "      <td>CP Woods</td>\n",
       "      <td>4</td>\n",
       "      <td>Bruce Simpson</td>\n",
       "      <td>ilovjazz@gmail.com</td>\n",
       "      <td>301-633-7736</td>\n",
       "      <td>3711 Marlbrough Way</td>\n",
       "      <td>email</td>\n",
       "      <td>2023-07-05 00:00:00</td>\n",
       "      <td>2023-11-03 00:00:00</td>\n",
       "      <td>2023-11-09 00:00:00</td>\n",
       "      <td>Red Maple</td>\n",
       "      <td>X</td>\n",
       "    </tr>\n",
       "    <tr>\n",
       "      <th>3</th>\n",
       "      <td>2023-03-09 00:00:00</td>\n",
       "      <td>Berwyn</td>\n",
       "      <td>2</td>\n",
       "      <td>Emily Friend</td>\n",
       "      <td>emmfriend@gmail.com</td>\n",
       "      <td>301-356-5396</td>\n",
       "      <td>4803 Ruatan St</td>\n",
       "      <td>email</td>\n",
       "      <td>2023-06-09 00:00:00</td>\n",
       "      <td>2023-11-03 00:00:00</td>\n",
       "      <td>2023-11-09 00:00:00</td>\n",
       "      <td>Tulip Poplar</td>\n",
       "      <td>X</td>\n",
       "    </tr>\n",
       "    <tr>\n",
       "      <th>4</th>\n",
       "      <td>2023-03-26 00:00:00</td>\n",
       "      <td>Hollywood W</td>\n",
       "      <td>1</td>\n",
       "      <td>Malcolm Williams</td>\n",
       "      <td>malcolmtwilliams@gmail.com</td>\n",
       "      <td>240-839-8554</td>\n",
       "      <td>4806 Lackawanna St</td>\n",
       "      <td>email</td>\n",
       "      <td>2023-06-26 00:00:00</td>\n",
       "      <td>2023-11-03 00:00:00</td>\n",
       "      <td>2023-11-09 00:00:00</td>\n",
       "      <td>Southern Magnolia</td>\n",
       "      <td>X</td>\n",
       "    </tr>\n",
       "  </tbody>\n",
       "</table>\n",
       "</div>"
      ],
      "text/plain": [
       "   casey_tree_planting_on_private_property_fall_2023   unnamed:_1  unnamed:_2  \\\n",
       "0  Application Date; Planting on Residential Prop...         Area  District #   \n",
       "1                                2022-06-25 00:00:00   CP Estates           3   \n",
       "2                                2022-07-01 00:00:00     CP Woods           4   \n",
       "3                                2023-03-09 00:00:00       Berwyn           2   \n",
       "4                                2023-03-26 00:00:00  Hollywood W           1   \n",
       "\n",
       "             unnamed:_3                  unnamed:_4    unnamed:_5  \\\n",
       "0  First and Last Name:              Email Address:  Phone Number   \n",
       "1       Andrew Stephens  andrewstephens11@gmail.com  202-550-5392   \n",
       "2         Bruce Simpson          ilovjazz@gmail.com  301-633-7736   \n",
       "3          Emily Friend         emmfriend@gmail.com  301-356-5396   \n",
       "4      Malcolm Williams  malcolmtwilliams@gmail.com  240-839-8554   \n",
       "\n",
       "            unnamed:_6         unnamed:_7           unnamed:_8  \\\n",
       "0             Address:  Preferred Contact    Consultation date   \n",
       "1    7512 Wellesley Dr              email  2023-06-08 00:00:00   \n",
       "2  3711 Marlbrough Way              email  2023-07-05 00:00:00   \n",
       "3       4803 Ruatan St              email  2023-06-09 00:00:00   \n",
       "4   4806 Lackawanna St              email  2023-06-26 00:00:00   \n",
       "\n",
       "                 unnamed:_9           unnamed:_10        unnamed:_11  \\\n",
       "0  Casey Trees date planted  City inspection date    Species planted   \n",
       "1       2024-10-30 00:00:00   2023-11-17 00:00:00    American Linden   \n",
       "2       2023-11-03 00:00:00   2023-11-09 00:00:00          Red Maple   \n",
       "3       2023-11-03 00:00:00   2023-11-09 00:00:00       Tulip Poplar   \n",
       "4       2023-11-03 00:00:00   2023-11-09 00:00:00  Southern Magnolia   \n",
       "\n",
       "                    unnamed:_12  \n",
       "0  Hold Harmless Form completed  \n",
       "1                             X  \n",
       "2                             X  \n",
       "3                             X  \n",
       "4                             X  "
      ]
     },
     "execution_count": 773,
     "metadata": {},
     "output_type": "execute_result"
    }
   ],
   "source": [
    "fall_2023.head(5)"
   ]
  },
  {
   "cell_type": "code",
   "execution_count": 774,
   "id": "944531fa-24f0-4115-8ca5-9f4c39fc2f0e",
   "metadata": {},
   "outputs": [
    {
     "ename": "KeyError",
     "evalue": "\"['casey_tree_planting_on_private_property_fall_2023', 'unnamed:_1', 'unnamed:_2', 'unnamed:_3', 'unnamed:_4', 'unnamed:_5', 'unnamed:_6', 'unnamed:_7', 'unnamed:_8', 'unnamed:_9', 'unnamed:_10', 'unnamed:_11', 'unnamed:_12'] not found in axis\"",
     "output_type": "error",
     "traceback": [
      "\u001b[1;31m---------------------------------------------------------------------------\u001b[0m",
      "\u001b[1;31mKeyError\u001b[0m                                  Traceback (most recent call last)",
      "Cell \u001b[1;32mIn[774], line 4\u001b[0m\n\u001b[0;32m      1\u001b[0m \u001b[38;5;66;03m# new_column_names = list(fall_2023.loc[0,])\u001b[39;00m\n\u001b[0;32m      2\u001b[0m \u001b[38;5;66;03m# new_column_names = list(fall_2023.loc[0,])\u001b[39;00m\n\u001b[0;32m      3\u001b[0m \u001b[38;5;66;03m# fall_2023.columns = new_column_names\u001b[39;00m\n\u001b[1;32m----> 4\u001b[0m format_table(fall_2023, \u001b[38;5;241m2023\u001b[39m)\n\u001b[0;32m      5\u001b[0m fall_2023\u001b[38;5;241m.\u001b[39mhead(\u001b[38;5;241m5\u001b[39m)\n",
      "Cell \u001b[1;32mIn[768], line 3\u001b[0m, in \u001b[0;36mformat_table\u001b[1;34m(df, year)\u001b[0m\n\u001b[0;32m      1\u001b[0m \u001b[38;5;28;01mdef\u001b[39;00m \u001b[38;5;21mformat_table\u001b[39m(df, year):\n\u001b[0;32m      2\u001b[0m     df \u001b[38;5;241m=\u001b[39m clean_column_names(df)\n\u001b[1;32m----> 3\u001b[0m     column_clean(df)\n\u001b[0;32m      4\u001b[0m     df \u001b[38;5;241m=\u001b[39m update_species(df)\n\u001b[0;32m      5\u001b[0m     df[\u001b[38;5;124m'\u001b[39m\u001b[38;5;124myear\u001b[39m\u001b[38;5;124m'\u001b[39m] \u001b[38;5;241m=\u001b[39m year\n",
      "Cell \u001b[1;32mIn[767], line 19\u001b[0m, in \u001b[0;36mcolumn_clean\u001b[1;34m(df)\u001b[0m\n\u001b[0;32m     16\u001b[0m             \u001b[38;5;28;01mif\u001b[39;00m column_name \u001b[38;5;129;01mnot\u001b[39;00m \u001b[38;5;129;01min\u001b[39;00m columns_to_drop:\n\u001b[0;32m     17\u001b[0m                 columns_to_drop\u001b[38;5;241m.\u001b[39mappend(column_name)\n\u001b[1;32m---> 19\u001b[0m df\u001b[38;5;241m.\u001b[39mdrop(columns\u001b[38;5;241m=\u001b[39mcolumns_to_drop, axis \u001b[38;5;241m=\u001b[39m \u001b[38;5;241m1\u001b[39m, inplace \u001b[38;5;241m=\u001b[39m \u001b[38;5;28;01mTrue\u001b[39;00m)\n\u001b[0;32m     21\u001b[0m \u001b[38;5;28;01mfor\u001b[39;00m column_name \u001b[38;5;129;01min\u001b[39;00m column_list:\n\u001b[0;32m     22\u001b[0m     \u001b[38;5;28;01mif\u001b[39;00m \u001b[38;5;124m\"\u001b[39m\u001b[38;5;124mspecies\u001b[39m\u001b[38;5;124m\"\u001b[39m \u001b[38;5;129;01min\u001b[39;00m column_name:\n",
      "File \u001b[1;32m~\\AppData\\Local\\anaconda3\\Lib\\site-packages\\pandas\\core\\frame.py:5581\u001b[0m, in \u001b[0;36mDataFrame.drop\u001b[1;34m(self, labels, axis, index, columns, level, inplace, errors)\u001b[0m\n\u001b[0;32m   5433\u001b[0m \u001b[38;5;28;01mdef\u001b[39;00m \u001b[38;5;21mdrop\u001b[39m(\n\u001b[0;32m   5434\u001b[0m     \u001b[38;5;28mself\u001b[39m,\n\u001b[0;32m   5435\u001b[0m     labels: IndexLabel \u001b[38;5;241m|\u001b[39m \u001b[38;5;28;01mNone\u001b[39;00m \u001b[38;5;241m=\u001b[39m \u001b[38;5;28;01mNone\u001b[39;00m,\n\u001b[1;32m   (...)\u001b[0m\n\u001b[0;32m   5442\u001b[0m     errors: IgnoreRaise \u001b[38;5;241m=\u001b[39m \u001b[38;5;124m\"\u001b[39m\u001b[38;5;124mraise\u001b[39m\u001b[38;5;124m\"\u001b[39m,\n\u001b[0;32m   5443\u001b[0m ) \u001b[38;5;241m-\u001b[39m\u001b[38;5;241m>\u001b[39m DataFrame \u001b[38;5;241m|\u001b[39m \u001b[38;5;28;01mNone\u001b[39;00m:\n\u001b[0;32m   5444\u001b[0m \u001b[38;5;250m    \u001b[39m\u001b[38;5;124;03m\"\"\"\u001b[39;00m\n\u001b[0;32m   5445\u001b[0m \u001b[38;5;124;03m    Drop specified labels from rows or columns.\u001b[39;00m\n\u001b[0;32m   5446\u001b[0m \n\u001b[1;32m   (...)\u001b[0m\n\u001b[0;32m   5579\u001b[0m \u001b[38;5;124;03m            weight  1.0     0.8\u001b[39;00m\n\u001b[0;32m   5580\u001b[0m \u001b[38;5;124;03m    \"\"\"\u001b[39;00m\n\u001b[1;32m-> 5581\u001b[0m     \u001b[38;5;28;01mreturn\u001b[39;00m \u001b[38;5;28msuper\u001b[39m()\u001b[38;5;241m.\u001b[39mdrop(\n\u001b[0;32m   5582\u001b[0m         labels\u001b[38;5;241m=\u001b[39mlabels,\n\u001b[0;32m   5583\u001b[0m         axis\u001b[38;5;241m=\u001b[39maxis,\n\u001b[0;32m   5584\u001b[0m         index\u001b[38;5;241m=\u001b[39mindex,\n\u001b[0;32m   5585\u001b[0m         columns\u001b[38;5;241m=\u001b[39mcolumns,\n\u001b[0;32m   5586\u001b[0m         level\u001b[38;5;241m=\u001b[39mlevel,\n\u001b[0;32m   5587\u001b[0m         inplace\u001b[38;5;241m=\u001b[39minplace,\n\u001b[0;32m   5588\u001b[0m         errors\u001b[38;5;241m=\u001b[39merrors,\n\u001b[0;32m   5589\u001b[0m     )\n",
      "File \u001b[1;32m~\\AppData\\Local\\anaconda3\\Lib\\site-packages\\pandas\\core\\generic.py:4788\u001b[0m, in \u001b[0;36mNDFrame.drop\u001b[1;34m(self, labels, axis, index, columns, level, inplace, errors)\u001b[0m\n\u001b[0;32m   4786\u001b[0m \u001b[38;5;28;01mfor\u001b[39;00m axis, labels \u001b[38;5;129;01min\u001b[39;00m axes\u001b[38;5;241m.\u001b[39mitems():\n\u001b[0;32m   4787\u001b[0m     \u001b[38;5;28;01mif\u001b[39;00m labels \u001b[38;5;129;01mis\u001b[39;00m \u001b[38;5;129;01mnot\u001b[39;00m \u001b[38;5;28;01mNone\u001b[39;00m:\n\u001b[1;32m-> 4788\u001b[0m         obj \u001b[38;5;241m=\u001b[39m obj\u001b[38;5;241m.\u001b[39m_drop_axis(labels, axis, level\u001b[38;5;241m=\u001b[39mlevel, errors\u001b[38;5;241m=\u001b[39merrors)\n\u001b[0;32m   4790\u001b[0m \u001b[38;5;28;01mif\u001b[39;00m inplace:\n\u001b[0;32m   4791\u001b[0m     \u001b[38;5;28mself\u001b[39m\u001b[38;5;241m.\u001b[39m_update_inplace(obj)\n",
      "File \u001b[1;32m~\\AppData\\Local\\anaconda3\\Lib\\site-packages\\pandas\\core\\generic.py:4830\u001b[0m, in \u001b[0;36mNDFrame._drop_axis\u001b[1;34m(self, labels, axis, level, errors, only_slice)\u001b[0m\n\u001b[0;32m   4828\u001b[0m         new_axis \u001b[38;5;241m=\u001b[39m axis\u001b[38;5;241m.\u001b[39mdrop(labels, level\u001b[38;5;241m=\u001b[39mlevel, errors\u001b[38;5;241m=\u001b[39merrors)\n\u001b[0;32m   4829\u001b[0m     \u001b[38;5;28;01melse\u001b[39;00m:\n\u001b[1;32m-> 4830\u001b[0m         new_axis \u001b[38;5;241m=\u001b[39m axis\u001b[38;5;241m.\u001b[39mdrop(labels, errors\u001b[38;5;241m=\u001b[39merrors)\n\u001b[0;32m   4831\u001b[0m     indexer \u001b[38;5;241m=\u001b[39m axis\u001b[38;5;241m.\u001b[39mget_indexer(new_axis)\n\u001b[0;32m   4833\u001b[0m \u001b[38;5;66;03m# Case for non-unique axis\u001b[39;00m\n\u001b[0;32m   4834\u001b[0m \u001b[38;5;28;01melse\u001b[39;00m:\n",
      "File \u001b[1;32m~\\AppData\\Local\\anaconda3\\Lib\\site-packages\\pandas\\core\\indexes\\base.py:7070\u001b[0m, in \u001b[0;36mIndex.drop\u001b[1;34m(self, labels, errors)\u001b[0m\n\u001b[0;32m   7068\u001b[0m \u001b[38;5;28;01mif\u001b[39;00m mask\u001b[38;5;241m.\u001b[39many():\n\u001b[0;32m   7069\u001b[0m     \u001b[38;5;28;01mif\u001b[39;00m errors \u001b[38;5;241m!=\u001b[39m \u001b[38;5;124m\"\u001b[39m\u001b[38;5;124mignore\u001b[39m\u001b[38;5;124m\"\u001b[39m:\n\u001b[1;32m-> 7070\u001b[0m         \u001b[38;5;28;01mraise\u001b[39;00m \u001b[38;5;167;01mKeyError\u001b[39;00m(\u001b[38;5;124mf\u001b[39m\u001b[38;5;124m\"\u001b[39m\u001b[38;5;132;01m{\u001b[39;00mlabels[mask]\u001b[38;5;241m.\u001b[39mtolist()\u001b[38;5;132;01m}\u001b[39;00m\u001b[38;5;124m not found in axis\u001b[39m\u001b[38;5;124m\"\u001b[39m)\n\u001b[0;32m   7071\u001b[0m     indexer \u001b[38;5;241m=\u001b[39m indexer[\u001b[38;5;241m~\u001b[39mmask]\n\u001b[0;32m   7072\u001b[0m \u001b[38;5;28;01mreturn\u001b[39;00m \u001b[38;5;28mself\u001b[39m\u001b[38;5;241m.\u001b[39mdelete(indexer)\n",
      "\u001b[1;31mKeyError\u001b[0m: \"['casey_tree_planting_on_private_property_fall_2023', 'unnamed:_1', 'unnamed:_2', 'unnamed:_3', 'unnamed:_4', 'unnamed:_5', 'unnamed:_6', 'unnamed:_7', 'unnamed:_8', 'unnamed:_9', 'unnamed:_10', 'unnamed:_11', 'unnamed:_12'] not found in axis\""
     ]
    }
   ],
   "source": [
    "# new_column_names = list(fall_2023.loc[0,])\n",
    "# new_column_names = list(fall_2023.loc[0,])\n",
    "# fall_2023.columns = new_column_names\n",
    "format_table(fall_2023, 2023)\n",
    "fall_2023.head(5)"
   ]
  },
  {
   "cell_type": "markdown",
   "id": "9e72be37-7e4b-41c2-a3c5-db78437e2a43",
   "metadata": {},
   "source": [
    "### Spring 2024 - 1"
   ]
  },
  {
   "cell_type": "code",
   "execution_count": null,
   "id": "c6a0291c-cf37-45bd-ad31-37c8e895f6cb",
   "metadata": {
    "scrolled": true
   },
   "outputs": [],
   "source": [
    "spring_2024_1.head(5)"
   ]
  },
  {
   "cell_type": "code",
   "execution_count": null,
   "id": "9e5c5f39-3f44-4760-b70d-1cfdfd03c44c",
   "metadata": {},
   "outputs": [],
   "source": [
    "format_table(spring_2024_1, 2024)\n",
    "spring_2024_1.head(5)"
   ]
  },
  {
   "cell_type": "markdown",
   "id": "d88d8c56-49ae-4c5a-8bc8-d2a4154ec440",
   "metadata": {},
   "source": [
    "### Spring 2024 - 2"
   ]
  },
  {
   "cell_type": "code",
   "execution_count": null,
   "id": "980b3ce3-e695-4511-a283-8b3d7c92b667",
   "metadata": {},
   "outputs": [],
   "source": [
    "spring_2024_2.head(5)"
   ]
  },
  {
   "cell_type": "code",
   "execution_count": null,
   "id": "6569c3bc-f1bf-4679-8101-63e0d5a649f6",
   "metadata": {},
   "outputs": [],
   "source": [
    "format_table(spring_2024_2, 2024)\n",
    "spring_2024_2.head(5)"
   ]
  }
 ],
 "metadata": {
  "kernelspec": {
   "display_name": "Python 3 (ipykernel)",
   "language": "python",
   "name": "python3"
  },
  "language_info": {
   "codemirror_mode": {
    "name": "ipython",
    "version": 3
   },
   "file_extension": ".py",
   "mimetype": "text/x-python",
   "name": "python",
   "nbconvert_exporter": "python",
   "pygments_lexer": "ipython3",
   "version": "3.12.7"
  }
 },
 "nbformat": 4,
 "nbformat_minor": 5
}
