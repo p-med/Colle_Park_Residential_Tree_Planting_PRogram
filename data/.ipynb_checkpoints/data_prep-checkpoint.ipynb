{
 "cells": [
  {
   "cell_type": "markdown",
   "id": "4bbbb7bb-82fe-4882-b1e5-f6a01a640fb2",
   "metadata": {},
   "source": [
    "# Residential Tree Planting project data prep"
   ]
  },
  {
   "cell_type": "markdown",
   "id": "756ac516-3d1b-4667-9ca7-76c7d7a9905e",
   "metadata": {},
   "source": [
    "## Loading and formatting data"
   ]
  },
  {
   "cell_type": "code",
   "execution_count": 61,
   "id": "7b70b8c1-4d78-42a1-a18f-ae809b1943d8",
   "metadata": {},
   "outputs": [],
   "source": [
    "import pandas as pd\n",
    "import os\n",
    "import numpy as np\n",
    "import geopy"
   ]
  },
  {
   "cell_type": "code",
   "execution_count": 69,
   "id": "0e6c9607-93ac-4e69-abf9-bc314a4069c0",
   "metadata": {},
   "outputs": [
    {
     "data": {
      "text/plain": [
       "['data_prep.ipynb',\n",
       " 'fall_2023.xlsx',\n",
       " 'fall_2024.xlsx',\n",
       " 'fall_2025.xlsx',\n",
       " 'spring_2023.xlsx',\n",
       " 'spring_2024_1.xlsx',\n",
       " 'spring_2024_2.xlsx',\n",
       " 'spring_2025.xlsx']"
      ]
     },
     "execution_count": 69,
     "metadata": {},
     "output_type": "execute_result"
    }
   ],
   "source": [
    "#Rename excel files\n",
    "old_names = list(os.listdir())\n",
    "\n",
    "for i in old_names:\n",
    "    if '.xlsx' not in i:\n",
    "        old_names.remove(i)\n",
    "\n",
    "old_names"
   ]
  },
  {
   "cell_type": "code",
   "execution_count": 67,
   "id": "67fc2d34-9949-4b86-a9c9-4676b24142e0",
   "metadata": {},
   "outputs": [
    {
     "data": {
      "text/plain": [
       "['data_prep.ipynb',\n",
       " 'fall_2023.xlsx',\n",
       " 'fall_2024.xlsx',\n",
       " 'fall_2025.xlsx',\n",
       " 'spring_2023.xlsx',\n",
       " 'spring_2024_1.xlsx',\n",
       " 'spring_2024_2.xlsx',\n",
       " 'spring_2025.xlsx']"
      ]
     },
     "execution_count": 67,
     "metadata": {},
     "output_type": "execute_result"
    }
   ],
   "source": [
    "new_names = []\n",
    "for i in old_names:\n",
    "    new_name = i.lower().replace(\" \",\"_\").strip()\n",
    "    new_name = new_name.replace(\"casey_\", \"\").replace(\"tree_\",\"\").replace(\"trees_\",\"\").replace(\"planting_\",\"\")\n",
    "    new_names.append(new_name)\n",
    "\n",
    "new_names"
   ]
  },
  {
   "cell_type": "code",
   "execution_count": 64,
   "id": "83cf0153-6cf2-4635-82d7-ebe001c79d07",
   "metadata": {},
   "outputs": [
    {
     "data": {
      "text/plain": [
       "['data_prep.ipynb',\n",
       " 'spring_2023.xlsx',\n",
       " 'spring_2024_2.xlsx',\n",
       " 'fall_2025.xlsx',\n",
       " 'fall_2024.xlsx',\n",
       " 'spring_2024_1.xlsx',\n",
       " 'spring_2024_1.xlsx',\n",
       " 'spring_2025.xlsx']"
      ]
     },
     "execution_count": 64,
     "metadata": {},
     "output_type": "execute_result"
    }
   ],
   "source": [
    "new_names[1] = 'spring_2023.xlsx'\n",
    "new_names[2] = 'spring_2024_2.xlsx'\n",
    "new_names[4] = 'fall_2024.xlsx'\n",
    "new_names[6] = 'spring_2024_1.xlsx'\n",
    "\n",
    "new_names"
   ]
  },
  {
   "cell_type": "code",
   "execution_count": 53,
   "id": "f7f050d3-790a-4fc7-905e-aad3e8b4fd38",
   "metadata": {},
   "outputs": [],
   "source": [
    "# for i in old_names:\n",
    "#     os.rename(i, new_names[old_names.index(i)])"
   ]
  },
  {
   "cell_type": "code",
   "execution_count": 54,
   "id": "ff6540ad-97ce-4573-94c4-9a1cd883bc40",
   "metadata": {},
   "outputs": [
    {
     "ename": "ValueError",
     "evalue": "Excel file format cannot be determined, you must specify an engine manually.",
     "output_type": "error",
     "traceback": [
      "\u001b[1;31m---------------------------------------------------------------------------\u001b[0m",
      "\u001b[1;31mValueError\u001b[0m                                Traceback (most recent call last)",
      "Cell \u001b[1;32mIn[54], line 4\u001b[0m\n\u001b[0;32m      2\u001b[0m dfs \u001b[38;5;241m=\u001b[39m {}\n\u001b[0;32m      3\u001b[0m \u001b[38;5;28;01mfor\u001b[39;00m i \u001b[38;5;129;01min\u001b[39;00m new_names:\n\u001b[1;32m----> 4\u001b[0m     dfs[i] \u001b[38;5;241m=\u001b[39m pd\u001b[38;5;241m.\u001b[39mread_excel(i, header\u001b[38;5;241m=\u001b[39m\u001b[38;5;241m0\u001b[39m)\n",
      "File \u001b[1;32m~\\AppData\\Local\\anaconda3\\Lib\\site-packages\\pandas\\io\\excel\\_base.py:495\u001b[0m, in \u001b[0;36mread_excel\u001b[1;34m(io, sheet_name, header, names, index_col, usecols, dtype, engine, converters, true_values, false_values, skiprows, nrows, na_values, keep_default_na, na_filter, verbose, parse_dates, date_parser, date_format, thousands, decimal, comment, skipfooter, storage_options, dtype_backend, engine_kwargs)\u001b[0m\n\u001b[0;32m    493\u001b[0m \u001b[38;5;28;01mif\u001b[39;00m \u001b[38;5;129;01mnot\u001b[39;00m \u001b[38;5;28misinstance\u001b[39m(io, ExcelFile):\n\u001b[0;32m    494\u001b[0m     should_close \u001b[38;5;241m=\u001b[39m \u001b[38;5;28;01mTrue\u001b[39;00m\n\u001b[1;32m--> 495\u001b[0m     io \u001b[38;5;241m=\u001b[39m ExcelFile(\n\u001b[0;32m    496\u001b[0m         io,\n\u001b[0;32m    497\u001b[0m         storage_options\u001b[38;5;241m=\u001b[39mstorage_options,\n\u001b[0;32m    498\u001b[0m         engine\u001b[38;5;241m=\u001b[39mengine,\n\u001b[0;32m    499\u001b[0m         engine_kwargs\u001b[38;5;241m=\u001b[39mengine_kwargs,\n\u001b[0;32m    500\u001b[0m     )\n\u001b[0;32m    501\u001b[0m \u001b[38;5;28;01melif\u001b[39;00m engine \u001b[38;5;129;01mand\u001b[39;00m engine \u001b[38;5;241m!=\u001b[39m io\u001b[38;5;241m.\u001b[39mengine:\n\u001b[0;32m    502\u001b[0m     \u001b[38;5;28;01mraise\u001b[39;00m \u001b[38;5;167;01mValueError\u001b[39;00m(\n\u001b[0;32m    503\u001b[0m         \u001b[38;5;124m\"\u001b[39m\u001b[38;5;124mEngine should not be specified when passing \u001b[39m\u001b[38;5;124m\"\u001b[39m\n\u001b[0;32m    504\u001b[0m         \u001b[38;5;124m\"\u001b[39m\u001b[38;5;124man ExcelFile - ExcelFile already has the engine set\u001b[39m\u001b[38;5;124m\"\u001b[39m\n\u001b[0;32m    505\u001b[0m     )\n",
      "File \u001b[1;32m~\\AppData\\Local\\anaconda3\\Lib\\site-packages\\pandas\\io\\excel\\_base.py:1554\u001b[0m, in \u001b[0;36mExcelFile.__init__\u001b[1;34m(self, path_or_buffer, engine, storage_options, engine_kwargs)\u001b[0m\n\u001b[0;32m   1550\u001b[0m     ext \u001b[38;5;241m=\u001b[39m inspect_excel_format(\n\u001b[0;32m   1551\u001b[0m         content_or_path\u001b[38;5;241m=\u001b[39mpath_or_buffer, storage_options\u001b[38;5;241m=\u001b[39mstorage_options\n\u001b[0;32m   1552\u001b[0m     )\n\u001b[0;32m   1553\u001b[0m     \u001b[38;5;28;01mif\u001b[39;00m ext \u001b[38;5;129;01mis\u001b[39;00m \u001b[38;5;28;01mNone\u001b[39;00m:\n\u001b[1;32m-> 1554\u001b[0m         \u001b[38;5;28;01mraise\u001b[39;00m \u001b[38;5;167;01mValueError\u001b[39;00m(\n\u001b[0;32m   1555\u001b[0m             \u001b[38;5;124m\"\u001b[39m\u001b[38;5;124mExcel file format cannot be determined, you must specify \u001b[39m\u001b[38;5;124m\"\u001b[39m\n\u001b[0;32m   1556\u001b[0m             \u001b[38;5;124m\"\u001b[39m\u001b[38;5;124man engine manually.\u001b[39m\u001b[38;5;124m\"\u001b[39m\n\u001b[0;32m   1557\u001b[0m         )\n\u001b[0;32m   1559\u001b[0m engine \u001b[38;5;241m=\u001b[39m config\u001b[38;5;241m.\u001b[39mget_option(\u001b[38;5;124mf\u001b[39m\u001b[38;5;124m\"\u001b[39m\u001b[38;5;124mio.excel.\u001b[39m\u001b[38;5;132;01m{\u001b[39;00mext\u001b[38;5;132;01m}\u001b[39;00m\u001b[38;5;124m.reader\u001b[39m\u001b[38;5;124m\"\u001b[39m, silent\u001b[38;5;241m=\u001b[39m\u001b[38;5;28;01mTrue\u001b[39;00m)\n\u001b[0;32m   1560\u001b[0m \u001b[38;5;28;01mif\u001b[39;00m engine \u001b[38;5;241m==\u001b[39m \u001b[38;5;124m\"\u001b[39m\u001b[38;5;124mauto\u001b[39m\u001b[38;5;124m\"\u001b[39m:\n",
      "\u001b[1;31mValueError\u001b[0m: Excel file format cannot be determined, you must specify an engine manually."
     ]
    }
   ],
   "source": [
    "# Read files into df\n",
    "dfs = {}\n",
    "for i in new_names:\n",
    "    dfs[i] = pd.read_excel(i, header=0)"
   ]
  },
  {
   "cell_type": "code",
   "execution_count": 55,
   "id": "79c8e683-feef-4689-ac63-2c1d49932b58",
   "metadata": {},
   "outputs": [
    {
     "data": {
      "text/plain": [
       "dict_keys([])"
      ]
     },
     "execution_count": 55,
     "metadata": {},
     "output_type": "execute_result"
    }
   ],
   "source": [
    "dfs.keys()"
   ]
  },
  {
   "cell_type": "code",
   "execution_count": null,
   "id": "447f3374-79a9-4549-84a5-79ca8731c312",
   "metadata": {},
   "outputs": [],
   "source": [
    "spring_2023 = dfs['spring_2023.xlsx']\n",
    "fall_2023 = dfs['fall_2023.xlsx']\n",
    "spring_2024_2 = dfs['spring_2024_2.xlsx']\n",
    "fall_2025 = dfs['fall_2025.xlsx']\n",
    "fall_2024 = dfs['fall_2024.xlsx']\n",
    "spring_2025 = dfs['spring_2025.xlsx']\n",
    "spring_2024_1 = dfs['spring_2024_1.xlsx']"
   ]
  },
  {
   "cell_type": "code",
   "execution_count": null,
   "id": "a05b9fb4-54e3-4af9-a1f9-39e7932bbda0",
   "metadata": {},
   "outputs": [],
   "source": []
  }
 ],
 "metadata": {
  "kernelspec": {
   "display_name": "Python 3 (ipykernel)",
   "language": "python",
   "name": "python3"
  },
  "language_info": {
   "codemirror_mode": {
    "name": "ipython",
    "version": 3
   },
   "file_extension": ".py",
   "mimetype": "text/x-python",
   "name": "python",
   "nbconvert_exporter": "python",
   "pygments_lexer": "ipython3",
   "version": "3.12.7"
  }
 },
 "nbformat": 4,
 "nbformat_minor": 5
}
