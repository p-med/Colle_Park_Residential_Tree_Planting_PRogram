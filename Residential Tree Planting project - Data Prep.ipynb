{
 "cells": [
  {
   "cell_type": "code",
   "execution_count": 1,
   "id": "7b70b8c1-4d78-42a1-a18f-ae809b1943d8",
   "metadata": {},
   "outputs": [],
   "source": [
    "import pandas as pd\n",
    "import os\n",
    "import numpy as np\n",
    "import geopy\n",
    "import geopandas\n",
    "import matplotlib.pyplot as plt\n",
    "import math\n",
    "import re"
   ]
  },
  {
   "cell_type": "markdown",
   "id": "4bbbb7bb-82fe-4882-b1e5-f6a01a640fb2",
   "metadata": {},
   "source": [
    "# Residential Tree Planting project data prep"
   ]
  },
  {
   "cell_type": "markdown",
   "id": "756ac516-3d1b-4667-9ca7-76c7d7a9905e",
   "metadata": {
    "jp-MarkdownHeadingCollapsed": true
   },
   "source": [
    "## Loading and formatting data"
   ]
  },
  {
   "cell_type": "code",
   "execution_count": 2,
   "id": "0e6c9607-93ac-4e69-abf9-bc314a4069c0",
   "metadata": {},
   "outputs": [
    {
     "data": {
      "text/plain": [
       "['boundaries',\n",
       " 'fall_2023.xlsx',\n",
       " 'fall_2024.xlsx',\n",
       " 'fall_2025.xlsx',\n",
       " 'spring_2023.xlsx',\n",
       " 'spring_2024_1.xlsx',\n",
       " 'spring_2024_2.xlsx',\n",
       " 'spring_2025.xlsx']"
      ]
     },
     "execution_count": 2,
     "metadata": {},
     "output_type": "execute_result"
    }
   ],
   "source": [
    "#Rename excel files\n",
    "old_names = list(os.listdir('./data'))\n",
    "\n",
    "for i in old_names:\n",
    "    if '.xlsx' not in i or '$' in i:\n",
    "        old_names.remove(i)\n",
    "\n",
    "old_names"
   ]
  },
  {
   "cell_type": "code",
   "execution_count": 3,
   "id": "67fc2d34-9949-4b86-a9c9-4676b24142e0",
   "metadata": {},
   "outputs": [
    {
     "data": {
      "text/plain": [
       "['boundaries',\n",
       " 'fall_2023.xlsx',\n",
       " 'fall_2024.xlsx',\n",
       " 'fall_2025.xlsx',\n",
       " 'spring_2023.xlsx',\n",
       " 'spring_2024_1.xlsx',\n",
       " 'spring_2024_2.xlsx',\n",
       " 'spring_2025.xlsx']"
      ]
     },
     "execution_count": 3,
     "metadata": {},
     "output_type": "execute_result"
    }
   ],
   "source": [
    "new_names = []\n",
    "for i in old_names:\n",
    "    new_name = i.lower().replace(\" \",\"_\").strip()\n",
    "    new_name = new_name.replace(\"casey_\", \"\").replace(\"tree_\",\"\").replace(\"trees_\",\"\").replace(\"planting_\",\"\")\n",
    "    new_names.append(new_name)\n",
    "\n",
    "new_names"
   ]
  },
  {
   "cell_type": "code",
   "execution_count": 4,
   "id": "ff6540ad-97ce-4573-94c4-9a1cd883bc40",
   "metadata": {},
   "outputs": [
    {
     "name": "stderr",
     "output_type": "stream",
     "text": [
      "C:\\Users\\pmedina\\AppData\\Local\\anaconda3\\Lib\\site-packages\\openpyxl\\worksheet\\_read_only.py:85: UserWarning: Data Validation extension is not supported and will be removed\n",
      "  for idx, row in parser.parse():\n"
     ]
    }
   ],
   "source": [
    "# Read files into df\n",
    "dfs = {}\n",
    "for i in new_names:\n",
    "    if 'xlsx' in i:\n",
    "        dfs[i] = pd.read_excel((\"./data/\"+i), header=0)"
   ]
  },
  {
   "cell_type": "code",
   "execution_count": 5,
   "id": "79c8e683-feef-4689-ac63-2c1d49932b58",
   "metadata": {},
   "outputs": [
    {
     "data": {
      "text/plain": [
       "dict_keys(['fall_2023.xlsx', 'fall_2024.xlsx', 'fall_2025.xlsx', 'spring_2023.xlsx', 'spring_2024_1.xlsx', 'spring_2024_2.xlsx', 'spring_2025.xlsx'])"
      ]
     },
     "execution_count": 5,
     "metadata": {},
     "output_type": "execute_result"
    }
   ],
   "source": [
    "dfs.keys()"
   ]
  },
  {
   "cell_type": "markdown",
   "id": "e908d873-95ef-450c-9bd8-3e70288fe8d7",
   "metadata": {},
   "source": [
    "## Formatting data functions"
   ]
  },
  {
   "cell_type": "markdown",
   "id": "1c268a39-f675-4c53-a7c0-34e415747996",
   "metadata": {
    "jp-MarkdownHeadingCollapsed": true
   },
   "source": [
    "### Column names cleaning"
   ]
  },
  {
   "cell_type": "code",
   "execution_count": 6,
   "id": "bdb60887-42f0-4920-9811-e277f4e6bf9c",
   "metadata": {},
   "outputs": [],
   "source": [
    "# Variable name formatting\n",
    "def clean_column_names(df):\n",
    "    df.columns = (df.columns\n",
    "               .str.strip()\n",
    "               .str.lower()\n",
    "               .str.replace(\" \", \"_\")\n",
    "               .str.replace(\";\",\"\")\n",
    "               .str.replace(\"\\\\t\",\"\")\n",
    "               .str.replace(\"[()€$]\", \"\",\n",
    "\n",
    "                            regex=True))\n",
    "    return df"
   ]
  },
  {
   "cell_type": "markdown",
   "id": "56421104-b746-40a1-a17c-2a037d2fe772",
   "metadata": {},
   "source": [
    "### Update species fields "
   ]
  },
  {
   "cell_type": "code",
   "execution_count": 7,
   "id": "23b62c35-d7f7-4e80-a0f9-20aefa7c227e",
   "metadata": {},
   "outputs": [],
   "source": [
    "pd.set_option('mode.chained_assignment', None)\n",
    "def update_species(df):\n",
    "    species_columns = ['species_1', 'species_2', 'species_3', 'species_4']\n",
    "    df_columns = list(df.columns)\n",
    "    test_value = 0\n",
    "    for name in species_columns:\n",
    "        if name in df_columns:\n",
    "            test_value += 1\n",
    "    if test_value >= 3:\n",
    "        return df\n",
    "    else:\n",
    "        for index, row in df.iterrows():\n",
    "            if ',' in row['species_1']:\n",
    "                species = df.loc[index, 'species_1'].split(',')\n",
    "                species_1 = species[0]\n",
    "                species_2 = species[1]\n",
    "                df.loc[index, 'species_1'] = species_1\n",
    "                df.loc[index, 'species_2'] = species_2\n",
    "            elif '2' in row['species_1']:\n",
    "                species = row['species_1'].strip().replace('2','').replace('()','')\n",
    "                df.loc[index, 'species_1'] = species\n",
    "                df.loc[index, 'species_2'] = species\n",
    "            else:\n",
    "                row['species_2'] = ''\n",
    "        return df"
   ]
  },
  {
   "cell_type": "code",
   "execution_count": 8,
   "id": "39920d66-0d38-41bb-942c-92c26dfe1fc3",
   "metadata": {},
   "outputs": [],
   "source": [
    "def transform_species(df):\n",
    "    # Create variables for the function\n",
    "    new_df = df[[\"city_district\", \"address\", \"species_1\", \"year\"]].copy() # New dataframe\n",
    "    new_df.rename(columns={\"species_1\":\"species\"}, inplace=True) # Rename column species_1 to species\n",
    "    initial_value = False # Set initial value\n",
    "    extra_species = [\"species_2\", \"species_3\", \"species_4\"] # Extra species columns\n",
    "    counter = 0\n",
    "    \n",
    "    # If the dataframe has any of the extra species columns set the initial value to True \n",
    "    for column in df.columns: \n",
    "        if \"species\" in column:\n",
    "            counter += 1\n",
    "    \n",
    "    #df.drop(\"species_1\", axis=1, inplace=True) # Drop species 1 since it's already included in the new df\n",
    "    \n",
    "    # If the initial value is True, then\n",
    "    if counter > 1:\n",
    "        for index, row in df.drop(\"species_1\", axis=1,).iterrows(): # For each indexed row in the input dataframe\n",
    "            for column in df.columns: # For each column in the input dataframe\n",
    "                if column in extra_species: # If the column is in the extra species columns list\n",
    "                    if (str(row[column]).lower() != \"nan\") and (len(str(row[column])) > 2): # If the row is not empty\n",
    "                        # Create a new row with city district, address, species, and year as fields\n",
    "                        new_row = pd.DataFrame({\"city_district\": [row[\"city_district\"]], \n",
    "                                                \"address\": [row[\"address\"]], \n",
    "                                                \"species\": [row[column]], \n",
    "                                                \"year\": [row[\"year\"]]}) \n",
    "                        # Add the new row to the copied new dataframe\n",
    "                        new_df = pd.concat([new_df, new_row], ignore_index=True)\n",
    "        # Return the new dataframe\n",
    "        return new_df\n",
    "    else:\n",
    "        new_df = df.rename(columns={\"species_1\": \"species\"})\n",
    "        return new_df"
   ]
  },
  {
   "cell_type": "markdown",
   "id": "9d82e186-7039-4132-ac03-d803292d0062",
   "metadata": {
    "jp-MarkdownHeadingCollapsed": true
   },
   "source": [
    "### Drop variables containing PII and unnecesary ones"
   ]
  },
  {
   "cell_type": "code",
   "execution_count": 9,
   "id": "239cb1d0-8352-42a7-af10-3465efedce9a",
   "metadata": {},
   "outputs": [],
   "source": [
    "def column_clean(df):\n",
    "    del_words = ['application', 'name','email','casey','form','contact','area','inspection','date','phone','quantity','insp']\n",
    "    column_list = list(df.columns)\n",
    "    columns_to_drop = []\n",
    "    new_df = df\n",
    "\n",
    "    if 'unnamed:_1' in column_list:\n",
    "        new_column_names = list(new_df.loc[0,])\n",
    "        new_df.columns = new_column_names\n",
    "        new_df = clean_column_names(new_df)\n",
    "        new_df = new_df.iloc[1:]\n",
    "        column_list = list(new_df.columns)\n",
    "        \n",
    "    for column_name in column_list:\n",
    "        for word in del_words:\n",
    "            if word in column_name:\n",
    "                if column_name not in columns_to_drop:\n",
    "                    columns_to_drop.append(column_name)\n",
    "\n",
    "    new_df.drop(columns=columns_to_drop, axis = 1, inplace = True)\n",
    "     \n",
    "    species_columns = 1\n",
    "    \n",
    "    for column_name in column_list:\n",
    "        if \"species\" in column_name:\n",
    "            # species_columns.append(column_name)\n",
    "            new_name = 'species_' + str(species_columns)\n",
    "            new_df.rename(columns={column_name:new_name}, inplace = True)\n",
    "            species_columns += 1\n",
    "        elif \"district_#\" in column_name or 'city_dist' in column_name:\n",
    "            new_df.rename(columns={column_name:\"city_district\"}, inplace = True)\n",
    "        elif \"address\" in column_name:\n",
    "            new_df.rename(columns={column_name:\"address\"}, inplace = True)\n",
    "        elif \"district\" in column_name:\n",
    "            new_df.rename(columns={column_name:\"city_district\"}, inplace = True)\n",
    "        \n",
    "            \n",
    "    return new_df\n",
    "            "
   ]
  },
  {
   "cell_type": "markdown",
   "id": "e7a59a3b-367e-41da-bf1e-545c28db68c8",
   "metadata": {},
   "source": [
    "### Create main function"
   ]
  },
  {
   "cell_type": "code",
   "execution_count": 10,
   "id": "b596c0a8-5e0c-4cfa-af73-9faa65e41a68",
   "metadata": {},
   "outputs": [],
   "source": [
    "def format_table(df, year):\n",
    "    if 'unnamed:_1' in list(df.columns):\n",
    "            new_df = column_clean(df)\n",
    "            new_df = update_species(new_df)\n",
    "            new_df['year'] = year\n",
    "            new_df = transform_species(new_df)\n",
    "            return new_df\n",
    "    else:\n",
    "            new_df = clean_column_names(df)\n",
    "            new_df = column_clean(new_df)\n",
    "            new_df = update_species(new_df)\n",
    "            new_df['year'] = year\n",
    "            new_df = transform_species(new_df)\n",
    "            return new_df"
   ]
  },
  {
   "cell_type": "markdown",
   "id": "a4c0bc81-7d78-4532-a330-6d2727122f73",
   "metadata": {
    "jp-MarkdownHeadingCollapsed": true
   },
   "source": [
    "### Geolocate function"
   ]
  },
  {
   "cell_type": "code",
   "execution_count": 11,
   "id": "5f5ccfef-bb6e-4a07-9439-d306be2f9423",
   "metadata": {},
   "outputs": [],
   "source": [
    "from geopy.geocoders import Nominatim\n",
    " \n",
    "geolocator = Nominatim(user_agent=\"myapp\")\n",
    "\n",
    "def geocode(table, field):\n",
    "    lat=[] #Latitude list\n",
    "    lon=[] #Longitude list\n",
    "    progress = 0 #Progress percentage\n",
    "    total = len(table)\n",
    "    #For each row\n",
    "    for index, row in table.iterrows():\n",
    "        #Geolocate passing the address field for the geolocator\n",
    "        location = geolocator.geocode(row[field], timeout=None)\n",
    "        if location is not None: #If the geolocator returns a valid value\n",
    "            latitude = location.latitude #extract the latitude value\n",
    "            longitude = location.longitude #Extract the longitude value\n",
    "            lat.append(latitude) #Append it to the lat list\n",
    "            lon.append(longitude) #Append it to the long list\n",
    "        else: #If the function returns an invalid value\n",
    "        #Set the values a 0,0\n",
    "            lat.append(0)\n",
    "            lon.append(0)\n",
    "        progress += 1\n",
    "        percentage = progress/total*100\n",
    "        #print(\"%.2f %%\" % percentage, end=\"\\r\", flush=True)\n",
    "        print(\" \" * 50, end=\"\\r\", flush=True) # Clear the line\n",
    "        print(f\"{percentage:.2f} %\", end=\"\\r\", flush=True)\n",
    "    #Return the list\n",
    "    return lat, lon"
   ]
  },
  {
   "cell_type": "markdown",
   "id": "cb43620c-9d0b-4a7d-a917-787a283320d1",
   "metadata": {},
   "source": [
    "## Format tables"
   ]
  },
  {
   "cell_type": "code",
   "execution_count": 12,
   "id": "447f3374-79a9-4549-84a5-79ca8731c312",
   "metadata": {},
   "outputs": [],
   "source": [
    "spring_2023 = dfs['spring_2023.xlsx']\n",
    "fall_2023 = dfs['fall_2023.xlsx']\n",
    "spring_2024_2 = dfs['spring_2024_2.xlsx']\n",
    "fall_2025 = dfs['fall_2025.xlsx']\n",
    "fall_2024 = dfs['fall_2024.xlsx']\n",
    "spring_2025 = dfs['spring_2025.xlsx']\n",
    "spring_2024_1 = dfs['spring_2024_1.xlsx']"
   ]
  },
  {
   "cell_type": "markdown",
   "id": "4b09bfe4-bd81-4d44-86ee-cd33c30f7395",
   "metadata": {},
   "source": [
    "### Spring 2023"
   ]
  },
  {
   "cell_type": "code",
   "execution_count": 13,
   "id": "6f6532e5-783b-4979-b9d5-5a936ea608d4",
   "metadata": {},
   "outputs": [
    {
     "data": {
      "text/html": [
       "<div>\n",
       "<style scoped>\n",
       "    .dataframe tbody tr th:only-of-type {\n",
       "        vertical-align: middle;\n",
       "    }\n",
       "\n",
       "    .dataframe tbody tr th {\n",
       "        vertical-align: top;\n",
       "    }\n",
       "\n",
       "    .dataframe thead th {\n",
       "        text-align: right;\n",
       "    }\n",
       "</style>\n",
       "<table border=\"1\" class=\"dataframe\">\n",
       "  <thead>\n",
       "    <tr style=\"text-align: right;\">\n",
       "      <th></th>\n",
       "      <th>Application Date; Planting on Resid Property</th>\n",
       "      <th>Area</th>\n",
       "      <th>District #</th>\n",
       "      <th>First and Last Name:</th>\n",
       "      <th>Email Address:</th>\n",
       "      <th>Phone Number:</th>\n",
       "      <th>Address:</th>\n",
       "      <th>Preferred Contact</th>\n",
       "      <th>Consultation date</th>\n",
       "      <th>Casey Trees date planted</th>\n",
       "      <th>City inspection date</th>\n",
       "      <th>Species planted</th>\n",
       "      <th>Notes (Casey Trees)</th>\n",
       "    </tr>\n",
       "  </thead>\n",
       "  <tbody>\n",
       "    <tr>\n",
       "      <th>0</th>\n",
       "      <td>2022-05-14 21:50:25</td>\n",
       "      <td>Daniels Pk E</td>\n",
       "      <td>1</td>\n",
       "      <td>Kirstin Showalter</td>\n",
       "      <td>kirstinsd@gmail.com</td>\n",
       "      <td>7346492987</td>\n",
       "      <td>5121 Kenesaw St</td>\n",
       "      <td>Email</td>\n",
       "      <td>2023-02-28</td>\n",
       "      <td>NaN</td>\n",
       "      <td>NaN</td>\n",
       "      <td>A.Hornbeam, Wil Oak</td>\n",
       "      <td>match</td>\n",
       "    </tr>\n",
       "    <tr>\n",
       "      <th>1</th>\n",
       "      <td>2022-11-11 13:10:39</td>\n",
       "      <td>Daniels Pk W</td>\n",
       "      <td>1</td>\n",
       "      <td>Anne Tolbert</td>\n",
       "      <td>ktolbertmd@gmail.com</td>\n",
       "      <td>301-613-3496</td>\n",
       "      <td>4908 Hollywood Rd</td>\n",
       "      <td>Email</td>\n",
       "      <td>2023-03-01</td>\n",
       "      <td>NaN</td>\n",
       "      <td>NaN</td>\n",
       "      <td>(2) Willow Oaks</td>\n",
       "      <td>no map</td>\n",
       "    </tr>\n",
       "  </tbody>\n",
       "</table>\n",
       "</div>"
      ],
      "text/plain": [
       "  Application Date; Planting on Resid Property          Area  District #  \\\n",
       "0                          2022-05-14 21:50:25  Daniels Pk E           1   \n",
       "1                          2022-11-11 13:10:39  Daniels Pk W           1   \n",
       "\n",
       "  First and Last Name:        Email Address: Phone Number:           Address:  \\\n",
       "0    Kirstin Showalter   kirstinsd@gmail.com    7346492987    5121 Kenesaw St   \n",
       "1         Anne Tolbert  ktolbertmd@gmail.com  301-613-3496  4908 Hollywood Rd   \n",
       "\n",
       "  Preferred Contact Consultation date  Casey Trees date planted  \\\n",
       "0             Email        2023-02-28                       NaN   \n",
       "1             Email        2023-03-01                       NaN   \n",
       "\n",
       "   City inspection date      Species planted Notes (Casey Trees)  \n",
       "0                   NaN  A.Hornbeam, Wil Oak               match  \n",
       "1                   NaN      (2) Willow Oaks              no map  "
      ]
     },
     "execution_count": 13,
     "metadata": {},
     "output_type": "execute_result"
    }
   ],
   "source": [
    "spring_2023.head(2)"
   ]
  },
  {
   "cell_type": "code",
   "execution_count": 14,
   "id": "a8d3d915-0ca8-4f1c-92d9-5c2c105f4c1b",
   "metadata": {},
   "outputs": [],
   "source": [
    "spring_2023 = format_table(spring_2023, 2023)"
   ]
  },
  {
   "cell_type": "code",
   "execution_count": 15,
   "id": "70dc6a78-5747-48a3-9ddf-a29b7f41fe55",
   "metadata": {},
   "outputs": [
    {
     "data": {
      "text/html": [
       "<div>\n",
       "<style scoped>\n",
       "    .dataframe tbody tr th:only-of-type {\n",
       "        vertical-align: middle;\n",
       "    }\n",
       "\n",
       "    .dataframe tbody tr th {\n",
       "        vertical-align: top;\n",
       "    }\n",
       "\n",
       "    .dataframe thead th {\n",
       "        text-align: right;\n",
       "    }\n",
       "</style>\n",
       "<table border=\"1\" class=\"dataframe\">\n",
       "  <thead>\n",
       "    <tr style=\"text-align: right;\">\n",
       "      <th></th>\n",
       "      <th>city_district</th>\n",
       "      <th>address</th>\n",
       "      <th>species</th>\n",
       "      <th>year</th>\n",
       "    </tr>\n",
       "  </thead>\n",
       "  <tbody>\n",
       "    <tr>\n",
       "      <th>0</th>\n",
       "      <td>1</td>\n",
       "      <td>5121 Kenesaw St</td>\n",
       "      <td>A.Hornbeam</td>\n",
       "      <td>2023</td>\n",
       "    </tr>\n",
       "    <tr>\n",
       "      <th>1</th>\n",
       "      <td>1</td>\n",
       "      <td>4908 Hollywood Rd</td>\n",
       "      <td>Willow Oaks</td>\n",
       "      <td>2023</td>\n",
       "    </tr>\n",
       "    <tr>\n",
       "      <th>2</th>\n",
       "      <td>1</td>\n",
       "      <td>4822 Erie Street</td>\n",
       "      <td>S. Magnolia</td>\n",
       "      <td>2023</td>\n",
       "    </tr>\n",
       "    <tr>\n",
       "      <th>3</th>\n",
       "      <td>1</td>\n",
       "      <td>5017 Laguna Road</td>\n",
       "      <td>S. Magnolia</td>\n",
       "      <td>2023</td>\n",
       "    </tr>\n",
       "    <tr>\n",
       "      <th>4</th>\n",
       "      <td>1</td>\n",
       "      <td>9118 Autoville Dr.</td>\n",
       "      <td>Am. Witch Hazel</td>\n",
       "      <td>2023</td>\n",
       "    </tr>\n",
       "    <tr>\n",
       "      <th>5</th>\n",
       "      <td>2</td>\n",
       "      <td>8302 49TH AVE</td>\n",
       "      <td>Baldcypress</td>\n",
       "      <td>2023</td>\n",
       "    </tr>\n",
       "    <tr>\n",
       "      <th>6</th>\n",
       "      <td>3</td>\n",
       "      <td>4614 Amherst Rd</td>\n",
       "      <td>Catalpa</td>\n",
       "      <td>2023</td>\n",
       "    </tr>\n",
       "    <tr>\n",
       "      <th>7</th>\n",
       "      <td>3</td>\n",
       "      <td>7207 Rhode Island Ave</td>\n",
       "      <td>Am. Hornbeam</td>\n",
       "      <td>2023</td>\n",
       "    </tr>\n",
       "    <tr>\n",
       "      <th>8</th>\n",
       "      <td>3</td>\n",
       "      <td>5911 Bryn Mawr Rd</td>\n",
       "      <td>S. Magnolia</td>\n",
       "      <td>2023</td>\n",
       "    </tr>\n",
       "    <tr>\n",
       "      <th>9</th>\n",
       "      <td>4</td>\n",
       "      <td>9116 Saint Andrews Pl</td>\n",
       "      <td>Am. Holly</td>\n",
       "      <td>2023</td>\n",
       "    </tr>\n",
       "    <tr>\n",
       "      <th>10</th>\n",
       "      <td>4</td>\n",
       "      <td>9237 Limestone Pl</td>\n",
       "      <td>S. Magnolia</td>\n",
       "      <td>2023</td>\n",
       "    </tr>\n",
       "    <tr>\n",
       "      <th>11</th>\n",
       "      <td>4</td>\n",
       "      <td>9259 Limestone Place</td>\n",
       "      <td>S. Magnolia</td>\n",
       "      <td>2023</td>\n",
       "    </tr>\n",
       "    <tr>\n",
       "      <th>12</th>\n",
       "      <td>4</td>\n",
       "      <td>9209 Davidson St</td>\n",
       "      <td>Honey Locust</td>\n",
       "      <td>2023</td>\n",
       "    </tr>\n",
       "    <tr>\n",
       "      <th>13</th>\n",
       "      <td>1</td>\n",
       "      <td>5121 Kenesaw St</td>\n",
       "      <td>Wil Oak</td>\n",
       "      <td>2023</td>\n",
       "    </tr>\n",
       "    <tr>\n",
       "      <th>14</th>\n",
       "      <td>1</td>\n",
       "      <td>4908 Hollywood Rd</td>\n",
       "      <td>Willow Oaks</td>\n",
       "      <td>2023</td>\n",
       "    </tr>\n",
       "  </tbody>\n",
       "</table>\n",
       "</div>"
      ],
      "text/plain": [
       "    city_district                 address          species  year\n",
       "0               1         5121 Kenesaw St       A.Hornbeam  2023\n",
       "1               1       4908 Hollywood Rd      Willow Oaks  2023\n",
       "2               1        4822 Erie Street      S. Magnolia  2023\n",
       "3               1        5017 Laguna Road      S. Magnolia  2023\n",
       "4               1     9118 Autoville Dr.   Am. Witch Hazel  2023\n",
       "5               2           8302 49TH AVE      Baldcypress  2023\n",
       "6               3         4614 Amherst Rd          Catalpa  2023\n",
       "7               3   7207 Rhode Island Ave     Am. Hornbeam  2023\n",
       "8               3       5911 Bryn Mawr Rd      S. Magnolia  2023\n",
       "9               4  9116 Saint Andrews Pl         Am. Holly  2023\n",
       "10              4       9237 Limestone Pl      S. Magnolia  2023\n",
       "11              4    9259 Limestone Place      S. Magnolia  2023\n",
       "12              4        9209 Davidson St     Honey Locust  2023\n",
       "13              1         5121 Kenesaw St          Wil Oak  2023\n",
       "14              1       4908 Hollywood Rd      Willow Oaks  2023"
      ]
     },
     "execution_count": 15,
     "metadata": {},
     "output_type": "execute_result"
    }
   ],
   "source": [
    "spring_2023"
   ]
  },
  {
   "cell_type": "markdown",
   "id": "8331e631-de7f-41df-9eb0-d71aea959fad",
   "metadata": {},
   "source": [
    "### Fall 2023"
   ]
  },
  {
   "cell_type": "code",
   "execution_count": 16,
   "id": "14ed80ba-01cf-4da0-a31a-69a6ba8e828d",
   "metadata": {},
   "outputs": [
    {
     "data": {
      "text/html": [
       "<div>\n",
       "<style scoped>\n",
       "    .dataframe tbody tr th:only-of-type {\n",
       "        vertical-align: middle;\n",
       "    }\n",
       "\n",
       "    .dataframe tbody tr th {\n",
       "        vertical-align: top;\n",
       "    }\n",
       "\n",
       "    .dataframe thead th {\n",
       "        text-align: right;\n",
       "    }\n",
       "</style>\n",
       "<table border=\"1\" class=\"dataframe\">\n",
       "  <thead>\n",
       "    <tr style=\"text-align: right;\">\n",
       "      <th></th>\n",
       "      <th>Casey Tree Planting on Private Property FALL 2023</th>\n",
       "      <th>Unnamed: 1</th>\n",
       "      <th>Unnamed: 2</th>\n",
       "      <th>Unnamed: 3</th>\n",
       "      <th>Unnamed: 4</th>\n",
       "      <th>Unnamed: 5</th>\n",
       "      <th>Unnamed: 6</th>\n",
       "      <th>Unnamed: 7</th>\n",
       "      <th>Unnamed: 8</th>\n",
       "      <th>Unnamed: 9</th>\n",
       "      <th>Unnamed: 10</th>\n",
       "      <th>Unnamed: 11</th>\n",
       "      <th>Unnamed: 12</th>\n",
       "    </tr>\n",
       "  </thead>\n",
       "  <tbody>\n",
       "    <tr>\n",
       "      <th>0</th>\n",
       "      <td>Application Date; Planting on Residential Prop...</td>\n",
       "      <td>Area</td>\n",
       "      <td>District #</td>\n",
       "      <td>First and Last Name:</td>\n",
       "      <td>Email Address:</td>\n",
       "      <td>Phone Number</td>\n",
       "      <td>Address:</td>\n",
       "      <td>Preferred Contact</td>\n",
       "      <td>Consultation date</td>\n",
       "      <td>Casey Trees date planted</td>\n",
       "      <td>City inspection date</td>\n",
       "      <td>Species planted</td>\n",
       "      <td>Hold Harmless Form completed</td>\n",
       "    </tr>\n",
       "    <tr>\n",
       "      <th>1</th>\n",
       "      <td>2022-06-25 00:00:00</td>\n",
       "      <td>CP Estates</td>\n",
       "      <td>3</td>\n",
       "      <td>Andrew Stephens</td>\n",
       "      <td>andrewstephens11@gmail.com</td>\n",
       "      <td>202-550-5392</td>\n",
       "      <td>7512 Wellesley Dr</td>\n",
       "      <td>email</td>\n",
       "      <td>2023-06-08 00:00:00</td>\n",
       "      <td>2024-10-30 00:00:00</td>\n",
       "      <td>2023-11-17 00:00:00</td>\n",
       "      <td>American Linden</td>\n",
       "      <td>X</td>\n",
       "    </tr>\n",
       "  </tbody>\n",
       "</table>\n",
       "</div>"
      ],
      "text/plain": [
       "   Casey Tree Planting on Private Property FALL 2023  Unnamed: 1  Unnamed: 2  \\\n",
       "0  Application Date; Planting on Residential Prop...        Area  District #   \n",
       "1                                2022-06-25 00:00:00  CP Estates           3   \n",
       "\n",
       "             Unnamed: 3                  Unnamed: 4    Unnamed: 5  \\\n",
       "0  First and Last Name:              Email Address:  Phone Number   \n",
       "1       Andrew Stephens  andrewstephens11@gmail.com  202-550-5392   \n",
       "\n",
       "          Unnamed: 6         Unnamed: 7           Unnamed: 8  \\\n",
       "0           Address:  Preferred Contact    Consultation date   \n",
       "1  7512 Wellesley Dr              email  2023-06-08 00:00:00   \n",
       "\n",
       "                 Unnamed: 9           Unnamed: 10      Unnamed: 11  \\\n",
       "0  Casey Trees date planted  City inspection date  Species planted   \n",
       "1       2024-10-30 00:00:00   2023-11-17 00:00:00  American Linden   \n",
       "\n",
       "                    Unnamed: 12  \n",
       "0  Hold Harmless Form completed  \n",
       "1                             X  "
      ]
     },
     "execution_count": 16,
     "metadata": {},
     "output_type": "execute_result"
    }
   ],
   "source": [
    "fall_2023.head(2)"
   ]
  },
  {
   "cell_type": "code",
   "execution_count": 17,
   "id": "874dd25a-77b3-4484-9df2-2fdcbf467a9d",
   "metadata": {},
   "outputs": [
    {
     "data": {
      "text/html": [
       "<div>\n",
       "<style scoped>\n",
       "    .dataframe tbody tr th:only-of-type {\n",
       "        vertical-align: middle;\n",
       "    }\n",
       "\n",
       "    .dataframe tbody tr th {\n",
       "        vertical-align: top;\n",
       "    }\n",
       "\n",
       "    .dataframe thead th {\n",
       "        text-align: right;\n",
       "    }\n",
       "</style>\n",
       "<table border=\"1\" class=\"dataframe\">\n",
       "  <thead>\n",
       "    <tr style=\"text-align: right;\">\n",
       "      <th></th>\n",
       "      <th>city_district</th>\n",
       "      <th>address</th>\n",
       "      <th>species</th>\n",
       "      <th>year</th>\n",
       "    </tr>\n",
       "  </thead>\n",
       "  <tbody>\n",
       "    <tr>\n",
       "      <th>1</th>\n",
       "      <td>3</td>\n",
       "      <td>7512 Wellesley Dr</td>\n",
       "      <td>American Linden</td>\n",
       "      <td>2023</td>\n",
       "    </tr>\n",
       "    <tr>\n",
       "      <th>2</th>\n",
       "      <td>4</td>\n",
       "      <td>3711 Marlbrough Way</td>\n",
       "      <td>Red Maple</td>\n",
       "      <td>2023</td>\n",
       "    </tr>\n",
       "    <tr>\n",
       "      <th>3</th>\n",
       "      <td>2</td>\n",
       "      <td>4803 Ruatan St</td>\n",
       "      <td>Tulip Poplar</td>\n",
       "      <td>2023</td>\n",
       "    </tr>\n",
       "    <tr>\n",
       "      <th>4</th>\n",
       "      <td>1</td>\n",
       "      <td>4806 Lackawanna St</td>\n",
       "      <td>Southern Magnolia</td>\n",
       "      <td>2023</td>\n",
       "    </tr>\n",
       "    <tr>\n",
       "      <th>5</th>\n",
       "      <td>1</td>\n",
       "      <td>9815 52nd Pl</td>\n",
       "      <td>Tulip Poplar</td>\n",
       "      <td>2023</td>\n",
       "    </tr>\n",
       "  </tbody>\n",
       "</table>\n",
       "</div>"
      ],
      "text/plain": [
       "  city_district              address            species  year\n",
       "1             3    7512 Wellesley Dr    American Linden  2023\n",
       "2             4  3711 Marlbrough Way          Red Maple  2023\n",
       "3             2       4803 Ruatan St       Tulip Poplar  2023\n",
       "4             1   4806 Lackawanna St  Southern Magnolia  2023\n",
       "5             1         9815 52nd Pl       Tulip Poplar  2023"
      ]
     },
     "execution_count": 17,
     "metadata": {},
     "output_type": "execute_result"
    }
   ],
   "source": [
    "fall_2023 = format_table(fall_2023, 2023)\n",
    "#fall_2023 = fall_2023.drop(0)\n",
    "fall_2023.head(5)"
   ]
  },
  {
   "cell_type": "markdown",
   "id": "9e72be37-7e4b-41c2-a3c5-db78437e2a43",
   "metadata": {},
   "source": [
    "### Spring 2024 - 1"
   ]
  },
  {
   "cell_type": "code",
   "execution_count": 18,
   "id": "c6a0291c-cf37-45bd-ad31-37c8e895f6cb",
   "metadata": {},
   "outputs": [
    {
     "data": {
      "text/html": [
       "<div>\n",
       "<style scoped>\n",
       "    .dataframe tbody tr th:only-of-type {\n",
       "        vertical-align: middle;\n",
       "    }\n",
       "\n",
       "    .dataframe tbody tr th {\n",
       "        vertical-align: top;\n",
       "    }\n",
       "\n",
       "    .dataframe thead th {\n",
       "        text-align: right;\n",
       "    }\n",
       "</style>\n",
       "<table border=\"1\" class=\"dataframe\">\n",
       "  <thead>\n",
       "    <tr style=\"text-align: right;\">\n",
       "      <th></th>\n",
       "      <th>Application Date; Planting on Residential Property</th>\n",
       "      <th>City District</th>\n",
       "      <th>First and Last Name:</th>\n",
       "      <th>Email Address:</th>\n",
       "      <th>Phone Number</th>\n",
       "      <th>Address:</th>\n",
       "      <th>Consultation date</th>\n",
       "      <th>Casey pl</th>\n",
       "      <th>City insp</th>\n",
       "      <th>Species planted</th>\n",
       "      <th>Hold Harmless Form completed</th>\n",
       "    </tr>\n",
       "  </thead>\n",
       "  <tbody>\n",
       "    <tr>\n",
       "      <th>0</th>\n",
       "      <td>2023-09-17</td>\n",
       "      <td>1</td>\n",
       "      <td>Anning Cheng</td>\n",
       "      <td>anningc@yahoo.com</td>\n",
       "      <td>757-268-8522</td>\n",
       "      <td>5109 Iroquois St</td>\n",
       "      <td>2023-12-08</td>\n",
       "      <td>2024-04-05</td>\n",
       "      <td>2024-04-23</td>\n",
       "      <td>Red Maple</td>\n",
       "      <td>X</td>\n",
       "    </tr>\n",
       "    <tr>\n",
       "      <th>1</th>\n",
       "      <td>2023-10-08</td>\n",
       "      <td>1</td>\n",
       "      <td>Kim Tolbert</td>\n",
       "      <td>ktolbertmd@gmail.com</td>\n",
       "      <td>301-613-3496</td>\n",
       "      <td>4908 Hollywood Rd</td>\n",
       "      <td>2023-12-08</td>\n",
       "      <td>2024-04-05</td>\n",
       "      <td>2024-04-23</td>\n",
       "      <td>Beech, Red Maple</td>\n",
       "      <td>X</td>\n",
       "    </tr>\n",
       "  </tbody>\n",
       "</table>\n",
       "</div>"
      ],
      "text/plain": [
       "  Application Date; Planting on Residential Property  City District  \\\n",
       "0                                         2023-09-17              1   \n",
       "1                                         2023-10-08              1   \n",
       "\n",
       "  First and Last Name:        Email Address:  Phone Number           Address:  \\\n",
       "0         Anning Cheng     anningc@yahoo.com  757-268-8522   5109 Iroquois St   \n",
       "1          Kim Tolbert  ktolbertmd@gmail.com  301-613-3496  4908 Hollywood Rd   \n",
       "\n",
       "  Consultation date   Casey pl  City insp   Species planted  \\\n",
       "0        2023-12-08 2024-04-05 2024-04-23         Red Maple   \n",
       "1        2023-12-08 2024-04-05 2024-04-23  Beech, Red Maple   \n",
       "\n",
       "  Hold Harmless Form completed  \n",
       "0                            X  \n",
       "1                            X  "
      ]
     },
     "execution_count": 18,
     "metadata": {},
     "output_type": "execute_result"
    }
   ],
   "source": [
    "spring_2024_1.head(2)"
   ]
  },
  {
   "cell_type": "code",
   "execution_count": 19,
   "id": "9e5c5f39-3f44-4760-b70d-1cfdfd03c44c",
   "metadata": {},
   "outputs": [
    {
     "data": {
      "text/html": [
       "<div>\n",
       "<style scoped>\n",
       "    .dataframe tbody tr th:only-of-type {\n",
       "        vertical-align: middle;\n",
       "    }\n",
       "\n",
       "    .dataframe tbody tr th {\n",
       "        vertical-align: top;\n",
       "    }\n",
       "\n",
       "    .dataframe thead th {\n",
       "        text-align: right;\n",
       "    }\n",
       "</style>\n",
       "<table border=\"1\" class=\"dataframe\">\n",
       "  <thead>\n",
       "    <tr style=\"text-align: right;\">\n",
       "      <th></th>\n",
       "      <th>city_district</th>\n",
       "      <th>address</th>\n",
       "      <th>species</th>\n",
       "      <th>year</th>\n",
       "    </tr>\n",
       "  </thead>\n",
       "  <tbody>\n",
       "    <tr>\n",
       "      <th>0</th>\n",
       "      <td>1</td>\n",
       "      <td>5109 Iroquois St</td>\n",
       "      <td>Red Maple</td>\n",
       "      <td>2024</td>\n",
       "    </tr>\n",
       "    <tr>\n",
       "      <th>1</th>\n",
       "      <td>1</td>\n",
       "      <td>4908 Hollywood Rd</td>\n",
       "      <td>Beech</td>\n",
       "      <td>2024</td>\n",
       "    </tr>\n",
       "    <tr>\n",
       "      <th>2</th>\n",
       "      <td>1</td>\n",
       "      <td>4810 Lackawanna St</td>\n",
       "      <td>Dogwood</td>\n",
       "      <td>2024</td>\n",
       "    </tr>\n",
       "    <tr>\n",
       "      <th>3</th>\n",
       "      <td>1</td>\n",
       "      <td>5106 Lackawanna St</td>\n",
       "      <td>Southern Magnolia</td>\n",
       "      <td>2024</td>\n",
       "    </tr>\n",
       "    <tr>\n",
       "      <th>4</th>\n",
       "      <td>1</td>\n",
       "      <td>9735 53rd Ave</td>\n",
       "      <td>Red Maple</td>\n",
       "      <td>2024</td>\n",
       "    </tr>\n",
       "  </tbody>\n",
       "</table>\n",
       "</div>"
      ],
      "text/plain": [
       "   city_district             address            species  year\n",
       "0              1    5109 Iroquois St          Red Maple  2024\n",
       "1              1   4908 Hollywood Rd              Beech  2024\n",
       "2              1  4810 Lackawanna St            Dogwood  2024\n",
       "3              1  5106 Lackawanna St  Southern Magnolia  2024\n",
       "4              1       9735 53rd Ave          Red Maple  2024"
      ]
     },
     "execution_count": 19,
     "metadata": {},
     "output_type": "execute_result"
    }
   ],
   "source": [
    "spring_2024_1 = format_table(spring_2024_1, 2024)\n",
    "spring_2024_1.head(5)"
   ]
  },
  {
   "cell_type": "markdown",
   "id": "d88d8c56-49ae-4c5a-8bc8-d2a4154ec440",
   "metadata": {},
   "source": [
    "### Spring 2024 - 2"
   ]
  },
  {
   "cell_type": "code",
   "execution_count": 20,
   "id": "980b3ce3-e695-4511-a283-8b3d7c92b667",
   "metadata": {},
   "outputs": [
    {
     "data": {
      "text/html": [
       "<div>\n",
       "<style scoped>\n",
       "    .dataframe tbody tr th:only-of-type {\n",
       "        vertical-align: middle;\n",
       "    }\n",
       "\n",
       "    .dataframe tbody tr th {\n",
       "        vertical-align: top;\n",
       "    }\n",
       "\n",
       "    .dataframe thead th {\n",
       "        text-align: right;\n",
       "    }\n",
       "</style>\n",
       "<table border=\"1\" class=\"dataframe\">\n",
       "  <thead>\n",
       "    <tr style=\"text-align: right;\">\n",
       "      <th></th>\n",
       "      <th>Casey Tree Planting on Private Property SPRING 2024 (MAY)</th>\n",
       "      <th>Unnamed: 1</th>\n",
       "      <th>Unnamed: 2</th>\n",
       "      <th>Unnamed: 3</th>\n",
       "      <th>Unnamed: 4</th>\n",
       "      <th>Unnamed: 5</th>\n",
       "      <th>Unnamed: 6</th>\n",
       "      <th>Unnamed: 7</th>\n",
       "      <th>Unnamed: 8</th>\n",
       "      <th>Unnamed: 9</th>\n",
       "      <th>Unnamed: 10</th>\n",
       "    </tr>\n",
       "  </thead>\n",
       "  <tbody>\n",
       "    <tr>\n",
       "      <th>0</th>\n",
       "      <td>Application Date; Planting on Residential Prop...</td>\n",
       "      <td>City District</td>\n",
       "      <td>First and Last Name:</td>\n",
       "      <td>Email Address:</td>\n",
       "      <td>Phone Number</td>\n",
       "      <td>Address:</td>\n",
       "      <td>Consultation date</td>\n",
       "      <td>Casey Trees date planted</td>\n",
       "      <td>City inspection date</td>\n",
       "      <td>Species planted</td>\n",
       "      <td>Hold Harmless Form completed</td>\n",
       "    </tr>\n",
       "    <tr>\n",
       "      <th>1</th>\n",
       "      <td>2024-02-28 00:00:00</td>\n",
       "      <td>1</td>\n",
       "      <td>Jeff Miller</td>\n",
       "      <td>jeffmillerworld@gmail.com</td>\n",
       "      <td>443-764-6083</td>\n",
       "      <td>9609 50th Place</td>\n",
       "      <td>2024-02-28 00:00:00</td>\n",
       "      <td>2024-04-10 00:00:00</td>\n",
       "      <td>2024-04-23 00:00:00</td>\n",
       "      <td>Beech, Swamp White Oak</td>\n",
       "      <td>X</td>\n",
       "    </tr>\n",
       "  </tbody>\n",
       "</table>\n",
       "</div>"
      ],
      "text/plain": [
       "  Casey Tree Planting on Private Property SPRING 2024 (MAY)     Unnamed: 1  \\\n",
       "0  Application Date; Planting on Residential Prop...         City District   \n",
       "1                                2024-02-28 00:00:00                     1   \n",
       "\n",
       "             Unnamed: 2                 Unnamed: 3    Unnamed: 4  \\\n",
       "0  First and Last Name:             Email Address:  Phone Number   \n",
       "1           Jeff Miller  jeffmillerworld@gmail.com  443-764-6083   \n",
       "\n",
       "        Unnamed: 5           Unnamed: 6                Unnamed: 7  \\\n",
       "0         Address:    Consultation date  Casey Trees date planted   \n",
       "1  9609 50th Place  2024-02-28 00:00:00       2024-04-10 00:00:00   \n",
       "\n",
       "             Unnamed: 8              Unnamed: 9                   Unnamed: 10  \n",
       "0  City inspection date         Species planted  Hold Harmless Form completed  \n",
       "1   2024-04-23 00:00:00  Beech, Swamp White Oak                             X  "
      ]
     },
     "execution_count": 20,
     "metadata": {},
     "output_type": "execute_result"
    }
   ],
   "source": [
    "spring_2024_2.head(2)"
   ]
  },
  {
   "cell_type": "code",
   "execution_count": 21,
   "id": "6569c3bc-f1bf-4679-8101-63e0d5a649f6",
   "metadata": {},
   "outputs": [
    {
     "data": {
      "text/html": [
       "<div>\n",
       "<style scoped>\n",
       "    .dataframe tbody tr th:only-of-type {\n",
       "        vertical-align: middle;\n",
       "    }\n",
       "\n",
       "    .dataframe tbody tr th {\n",
       "        vertical-align: top;\n",
       "    }\n",
       "\n",
       "    .dataframe thead th {\n",
       "        text-align: right;\n",
       "    }\n",
       "</style>\n",
       "<table border=\"1\" class=\"dataframe\">\n",
       "  <thead>\n",
       "    <tr style=\"text-align: right;\">\n",
       "      <th></th>\n",
       "      <th>city_district</th>\n",
       "      <th>address</th>\n",
       "      <th>species</th>\n",
       "      <th>year</th>\n",
       "    </tr>\n",
       "  </thead>\n",
       "  <tbody>\n",
       "    <tr>\n",
       "      <th>0</th>\n",
       "      <td>1</td>\n",
       "      <td>9609 50th Place</td>\n",
       "      <td>Beech</td>\n",
       "      <td>2024</td>\n",
       "    </tr>\n",
       "    <tr>\n",
       "      <th>1</th>\n",
       "      <td>1</td>\n",
       "      <td>9540 Rhode Island Ave</td>\n",
       "      <td>Persimmon</td>\n",
       "      <td>2024</td>\n",
       "    </tr>\n",
       "    <tr>\n",
       "      <th>2</th>\n",
       "      <td>1</td>\n",
       "      <td>5121 Kennebunk Terr</td>\n",
       "      <td>Freeman Maple</td>\n",
       "      <td>2024</td>\n",
       "    </tr>\n",
       "    <tr>\n",
       "      <th>3</th>\n",
       "      <td>2</td>\n",
       "      <td>4811 Ruatan St</td>\n",
       "      <td>Swamp White Oak</td>\n",
       "      <td>2024</td>\n",
       "    </tr>\n",
       "    <tr>\n",
       "      <th>4</th>\n",
       "      <td>3</td>\n",
       "      <td>7510 Wellesley Dr</td>\n",
       "      <td>Redbud</td>\n",
       "      <td>2024</td>\n",
       "    </tr>\n",
       "    <tr>\n",
       "      <th>5</th>\n",
       "      <td>3</td>\n",
       "      <td>4611 Drexel Rd</td>\n",
       "      <td>Persimmon</td>\n",
       "      <td>2024</td>\n",
       "    </tr>\n",
       "    <tr>\n",
       "      <th>6</th>\n",
       "      <td>4</td>\n",
       "      <td>3739 Marlbrough Way</td>\n",
       "      <td>Am. Holly</td>\n",
       "      <td>2024</td>\n",
       "    </tr>\n",
       "    <tr>\n",
       "      <th>7</th>\n",
       "      <td>4</td>\n",
       "      <td>7321 Radcliffe Dr</td>\n",
       "      <td>Am Holly</td>\n",
       "      <td>2024</td>\n",
       "    </tr>\n",
       "    <tr>\n",
       "      <th>8</th>\n",
       "      <td>NaN</td>\n",
       "      <td>NaN</td>\n",
       "      <td>Total = 14 trees</td>\n",
       "      <td>2024</td>\n",
       "    </tr>\n",
       "    <tr>\n",
       "      <th>9</th>\n",
       "      <td>1</td>\n",
       "      <td>9609 50th Place</td>\n",
       "      <td>Swamp White Oak</td>\n",
       "      <td>2024</td>\n",
       "    </tr>\n",
       "  </tbody>\n",
       "</table>\n",
       "</div>"
      ],
      "text/plain": [
       "  city_district                address           species  year\n",
       "0             1        9609 50th Place             Beech  2024\n",
       "1             1  9540 Rhode Island Ave         Persimmon  2024\n",
       "2             1    5121 Kennebunk Terr     Freeman Maple  2024\n",
       "3             2         4811 Ruatan St   Swamp White Oak  2024\n",
       "4             3      7510 Wellesley Dr            Redbud  2024\n",
       "5             3         4611 Drexel Rd         Persimmon  2024\n",
       "6             4    3739 Marlbrough Way         Am. Holly  2024\n",
       "7             4      7321 Radcliffe Dr          Am Holly  2024\n",
       "8           NaN                    NaN  Total = 14 trees  2024\n",
       "9             1        9609 50th Place   Swamp White Oak  2024"
      ]
     },
     "execution_count": 21,
     "metadata": {},
     "output_type": "execute_result"
    }
   ],
   "source": [
    "spring_2024_2 = format_table(spring_2024_2, 2024)\n",
    "spring_2024_2.head(10)"
   ]
  },
  {
   "cell_type": "markdown",
   "id": "ddb24f00-baab-4564-bec8-f82a3cc85c61",
   "metadata": {},
   "source": [
    "### Fall 2024"
   ]
  },
  {
   "cell_type": "code",
   "execution_count": 22,
   "id": "bfa0ca88-f78e-47a0-94fd-eecc145de1ca",
   "metadata": {},
   "outputs": [
    {
     "data": {
      "text/html": [
       "<div>\n",
       "<style scoped>\n",
       "    .dataframe tbody tr th:only-of-type {\n",
       "        vertical-align: middle;\n",
       "    }\n",
       "\n",
       "    .dataframe tbody tr th {\n",
       "        vertical-align: top;\n",
       "    }\n",
       "\n",
       "    .dataframe thead th {\n",
       "        text-align: right;\n",
       "    }\n",
       "</style>\n",
       "<table border=\"1\" class=\"dataframe\">\n",
       "  <thead>\n",
       "    <tr style=\"text-align: right;\">\n",
       "      <th></th>\n",
       "      <th>City Dist</th>\n",
       "      <th>First and Last Name:</th>\n",
       "      <th>Email Address:</th>\n",
       "      <th>Phone Number:</th>\n",
       "      <th>Address of the Tree</th>\n",
       "      <th>Species 1</th>\n",
       "      <th>Species 2</th>\n",
       "      <th>Species 3</th>\n",
       "      <th>Species 4</th>\n",
       "      <th>Notes</th>\n",
       "      <th>Casey Trees date planted</th>\n",
       "      <th>City Inspetion date</th>\n",
       "    </tr>\n",
       "  </thead>\n",
       "  <tbody>\n",
       "    <tr>\n",
       "      <th>0</th>\n",
       "      <td>1</td>\n",
       "      <td>William Crane</td>\n",
       "      <td>frunpro@outlook.com</td>\n",
       "      <td>2022465897</td>\n",
       "      <td>8611 Rhode Island Ave</td>\n",
       "      <td>American holly</td>\n",
       "      <td>Redbud</td>\n",
       "      <td>Swamp white oak</td>\n",
       "      <td>NaN</td>\n",
       "      <td>NaN</td>\n",
       "      <td>2024-11-19 00:00:00</td>\n",
       "      <td>2024-11-19 00:00:00</td>\n",
       "    </tr>\n",
       "    <tr>\n",
       "      <th>1</th>\n",
       "      <td>1</td>\n",
       "      <td>James Milmoe</td>\n",
       "      <td>milmoej2007@hotmail.com</td>\n",
       "      <td>4434667799</td>\n",
       "      <td>8709 48th Ave</td>\n",
       "      <td>American holly</td>\n",
       "      <td>Nuttall oak</td>\n",
       "      <td>NaN</td>\n",
       "      <td>NaN</td>\n",
       "      <td>NaN</td>\n",
       "      <td>2024-11-19 00:00:00</td>\n",
       "      <td>2024-11-19 00:00:00</td>\n",
       "    </tr>\n",
       "  </tbody>\n",
       "</table>\n",
       "</div>"
      ],
      "text/plain": [
       "   City Dist First and Last Name:           Email Address: Phone Number:  \\\n",
       "0          1        William Crane      frunpro@outlook.com    2022465897   \n",
       "1          1         James Milmoe  milmoej2007@hotmail.com    4434667799   \n",
       "\n",
       "     Address of the Tree       Species 1    Species 2        Species 3  \\\n",
       "0  8611 Rhode Island Ave  American holly       Redbud  Swamp white oak   \n",
       "1          8709 48th Ave  American holly  Nuttall oak              NaN   \n",
       "\n",
       "  Species 4 Notes Casey Trees date planted  City Inspetion date  \n",
       "0       NaN   NaN      2024-11-19 00:00:00  2024-11-19 00:00:00  \n",
       "1       NaN   NaN      2024-11-19 00:00:00  2024-11-19 00:00:00  "
      ]
     },
     "execution_count": 22,
     "metadata": {},
     "output_type": "execute_result"
    }
   ],
   "source": [
    "fall_2024.head(2)"
   ]
  },
  {
   "cell_type": "code",
   "execution_count": 23,
   "id": "f07f6b64-2edb-42e2-bd61-f0672b684433",
   "metadata": {},
   "outputs": [
    {
     "data": {
      "text/html": [
       "<div>\n",
       "<style scoped>\n",
       "    .dataframe tbody tr th:only-of-type {\n",
       "        vertical-align: middle;\n",
       "    }\n",
       "\n",
       "    .dataframe tbody tr th {\n",
       "        vertical-align: top;\n",
       "    }\n",
       "\n",
       "    .dataframe thead th {\n",
       "        text-align: right;\n",
       "    }\n",
       "</style>\n",
       "<table border=\"1\" class=\"dataframe\">\n",
       "  <thead>\n",
       "    <tr style=\"text-align: right;\">\n",
       "      <th></th>\n",
       "      <th>city_district</th>\n",
       "      <th>address</th>\n",
       "      <th>species</th>\n",
       "      <th>year</th>\n",
       "    </tr>\n",
       "  </thead>\n",
       "  <tbody>\n",
       "    <tr>\n",
       "      <th>0</th>\n",
       "      <td>1</td>\n",
       "      <td>8611 Rhode Island Ave</td>\n",
       "      <td>American holly</td>\n",
       "      <td>2024</td>\n",
       "    </tr>\n",
       "    <tr>\n",
       "      <th>1</th>\n",
       "      <td>1</td>\n",
       "      <td>8709 48th Ave</td>\n",
       "      <td>American holly</td>\n",
       "      <td>2024</td>\n",
       "    </tr>\n",
       "    <tr>\n",
       "      <th>2</th>\n",
       "      <td>1</td>\n",
       "      <td>9629 52nd Ave</td>\n",
       "      <td>Redbud</td>\n",
       "      <td>2024</td>\n",
       "    </tr>\n",
       "    <tr>\n",
       "      <th>3</th>\n",
       "      <td>1</td>\n",
       "      <td>6917 Carleton Ter</td>\n",
       "      <td>Apple serviceberry</td>\n",
       "      <td>2024</td>\n",
       "    </tr>\n",
       "    <tr>\n",
       "      <th>4</th>\n",
       "      <td>1</td>\n",
       "      <td>9621 Narragansett Pkwy</td>\n",
       "      <td>Persimmon</td>\n",
       "      <td>2024</td>\n",
       "    </tr>\n",
       "  </tbody>\n",
       "</table>\n",
       "</div>"
      ],
      "text/plain": [
       "   city_district                 address             species  year\n",
       "0              1   8611 Rhode Island Ave      American holly  2024\n",
       "1              1           8709 48th Ave      American holly  2024\n",
       "2              1           9629 52nd Ave              Redbud  2024\n",
       "3              1       6917 Carleton Ter  Apple serviceberry  2024\n",
       "4              1  9621 Narragansett Pkwy           Persimmon  2024"
      ]
     },
     "execution_count": 23,
     "metadata": {},
     "output_type": "execute_result"
    }
   ],
   "source": [
    "fall_2024 = format_table(fall_2024, 2024)\n",
    "fall_2024.head(5)"
   ]
  },
  {
   "cell_type": "markdown",
   "id": "57efeeb3-4d26-495e-adc7-7cdad5323954",
   "metadata": {},
   "source": [
    "### Spring 2025"
   ]
  },
  {
   "cell_type": "code",
   "execution_count": 24,
   "id": "e7e16ccc-5809-49ad-ad9f-6136edc92ab6",
   "metadata": {},
   "outputs": [
    {
     "data": {
      "text/html": [
       "<div>\n",
       "<style scoped>\n",
       "    .dataframe tbody tr th:only-of-type {\n",
       "        vertical-align: middle;\n",
       "    }\n",
       "\n",
       "    .dataframe tbody tr th {\n",
       "        vertical-align: top;\n",
       "    }\n",
       "\n",
       "    .dataframe thead th {\n",
       "        text-align: right;\n",
       "    }\n",
       "</style>\n",
       "<table border=\"1\" class=\"dataframe\">\n",
       "  <thead>\n",
       "    <tr style=\"text-align: right;\">\n",
       "      <th></th>\n",
       "      <th>City Dist</th>\n",
       "      <th>First and Last Name:</th>\n",
       "      <th>Email Address:</th>\n",
       "      <th>Phone Number:</th>\n",
       "      <th>Address of the Tree</th>\n",
       "      <th>Species 1</th>\n",
       "      <th>Species 2</th>\n",
       "      <th>Species 3</th>\n",
       "      <th>Species 4</th>\n",
       "      <th>Notes</th>\n",
       "      <th>Casey Trees date planted</th>\n",
       "      <th>City Inspetion date</th>\n",
       "    </tr>\n",
       "  </thead>\n",
       "  <tbody>\n",
       "    <tr>\n",
       "      <th>0</th>\n",
       "      <td>1</td>\n",
       "      <td>Silvia Alvarado</td>\n",
       "      <td>marylicastillo@gmail.com</td>\n",
       "      <td>202-460-5615</td>\n",
       "      <td>9406 52nd Ave</td>\n",
       "      <td>Arborvitae</td>\n",
       "      <td>Arborvitae</td>\n",
       "      <td>NaN</td>\n",
       "      <td>NaN</td>\n",
       "      <td>NaN</td>\n",
       "      <td>NaN</td>\n",
       "      <td>NaN</td>\n",
       "    </tr>\n",
       "    <tr>\n",
       "      <th>1</th>\n",
       "      <td>1</td>\n",
       "      <td>Brian Mayers</td>\n",
       "      <td>soccerplaya37@gmail.com</td>\n",
       "      <td>443-534-4109</td>\n",
       "      <td>5202 Lackawanna St</td>\n",
       "      <td>Southern Magnolia</td>\n",
       "      <td>NaN</td>\n",
       "      <td>NaN</td>\n",
       "      <td>NaN</td>\n",
       "      <td>NaN</td>\n",
       "      <td>NaN</td>\n",
       "      <td>NaN</td>\n",
       "    </tr>\n",
       "  </tbody>\n",
       "</table>\n",
       "</div>"
      ],
      "text/plain": [
       "   City Dist First and Last Name:            Email Address: Phone Number:  \\\n",
       "0          1      Silvia Alvarado  marylicastillo@gmail.com  202-460-5615   \n",
       "1          1         Brian Mayers   soccerplaya37@gmail.com  443-534-4109   \n",
       "\n",
       "  Address of the Tree          Species 1   Species 2 Species 3 Species 4  \\\n",
       "0       9406 52nd Ave         Arborvitae  Arborvitae       NaN       NaN   \n",
       "1  5202 Lackawanna St  Southern Magnolia         NaN       NaN       NaN   \n",
       "\n",
       "   Notes  Casey Trees date planted  City Inspetion date  \n",
       "0    NaN                       NaN                  NaN  \n",
       "1    NaN                       NaN                  NaN  "
      ]
     },
     "execution_count": 24,
     "metadata": {},
     "output_type": "execute_result"
    }
   ],
   "source": [
    "spring_2025.head(2)"
   ]
  },
  {
   "cell_type": "code",
   "execution_count": 25,
   "id": "5f8b079e-14bc-4e1b-9a34-ac0a99ae3120",
   "metadata": {},
   "outputs": [
    {
     "data": {
      "text/html": [
       "<div>\n",
       "<style scoped>\n",
       "    .dataframe tbody tr th:only-of-type {\n",
       "        vertical-align: middle;\n",
       "    }\n",
       "\n",
       "    .dataframe tbody tr th {\n",
       "        vertical-align: top;\n",
       "    }\n",
       "\n",
       "    .dataframe thead th {\n",
       "        text-align: right;\n",
       "    }\n",
       "</style>\n",
       "<table border=\"1\" class=\"dataframe\">\n",
       "  <thead>\n",
       "    <tr style=\"text-align: right;\">\n",
       "      <th></th>\n",
       "      <th>city_district</th>\n",
       "      <th>address</th>\n",
       "      <th>species</th>\n",
       "      <th>year</th>\n",
       "    </tr>\n",
       "  </thead>\n",
       "  <tbody>\n",
       "    <tr>\n",
       "      <th>0</th>\n",
       "      <td>1</td>\n",
       "      <td>9406 52nd Ave</td>\n",
       "      <td>Arborvitae</td>\n",
       "      <td>2025</td>\n",
       "    </tr>\n",
       "    <tr>\n",
       "      <th>1</th>\n",
       "      <td>1</td>\n",
       "      <td>5202 Lackawanna St</td>\n",
       "      <td>Southern Magnolia</td>\n",
       "      <td>2025</td>\n",
       "    </tr>\n",
       "    <tr>\n",
       "      <th>2</th>\n",
       "      <td>1</td>\n",
       "      <td>9037 49th Pl</td>\n",
       "      <td>NS Holly</td>\n",
       "      <td>2025</td>\n",
       "    </tr>\n",
       "    <tr>\n",
       "      <th>3</th>\n",
       "      <td>1</td>\n",
       "      <td>4712 Nantucket Rd</td>\n",
       "      <td>Am  Elm</td>\n",
       "      <td>2025</td>\n",
       "    </tr>\n",
       "    <tr>\n",
       "      <th>4</th>\n",
       "      <td>1</td>\n",
       "      <td>5022 Geronimo St</td>\n",
       "      <td>Redbud</td>\n",
       "      <td>2025</td>\n",
       "    </tr>\n",
       "  </tbody>\n",
       "</table>\n",
       "</div>"
      ],
      "text/plain": [
       "   city_district             address            species  year\n",
       "0              1       9406 52nd Ave         Arborvitae  2025\n",
       "1              1  5202 Lackawanna St  Southern Magnolia  2025\n",
       "2              1        9037 49th Pl           NS Holly  2025\n",
       "3              1   4712 Nantucket Rd            Am  Elm  2025\n",
       "4              1    5022 Geronimo St             Redbud  2025"
      ]
     },
     "execution_count": 25,
     "metadata": {},
     "output_type": "execute_result"
    }
   ],
   "source": [
    "spring_2025 = format_table(spring_2025, 2025)\n",
    "spring_2025.head(5)"
   ]
  },
  {
   "cell_type": "markdown",
   "id": "76068b44-c007-45e0-bdab-54bc1a6cc76d",
   "metadata": {},
   "source": [
    "### Fall 2025"
   ]
  },
  {
   "cell_type": "code",
   "execution_count": 26,
   "id": "2c3d38ad-c33a-4bee-a3d2-c568c0adf1b4",
   "metadata": {},
   "outputs": [
    {
     "data": {
      "text/html": [
       "<div>\n",
       "<style scoped>\n",
       "    .dataframe tbody tr th:only-of-type {\n",
       "        vertical-align: middle;\n",
       "    }\n",
       "\n",
       "    .dataframe tbody tr th {\n",
       "        vertical-align: top;\n",
       "    }\n",
       "\n",
       "    .dataframe thead th {\n",
       "        text-align: right;\n",
       "    }\n",
       "</style>\n",
       "<table border=\"1\" class=\"dataframe\">\n",
       "  <thead>\n",
       "    <tr style=\"text-align: right;\">\n",
       "      <th></th>\n",
       "      <th>First and Last Name:</th>\n",
       "      <th>Email Address:</th>\n",
       "      <th>Phone Number:</th>\n",
       "      <th>District</th>\n",
       "      <th>Address</th>\n",
       "      <th>Species 1</th>\n",
       "      <th>Species 2</th>\n",
       "      <th>Tree quantity</th>\n",
       "    </tr>\n",
       "  </thead>\n",
       "  <tbody>\n",
       "    <tr>\n",
       "      <th>0</th>\n",
       "      <td>Adam Claudy</td>\n",
       "      <td>atclaudy@gmail.com</td>\n",
       "      <td>301-356-0282</td>\n",
       "      <td>Disctrict 1</td>\n",
       "      <td>9400 49th Ave</td>\n",
       "      <td>Redbud</td>\n",
       "      <td>NaN</td>\n",
       "      <td>1</td>\n",
       "    </tr>\n",
       "    <tr>\n",
       "      <th>1</th>\n",
       "      <td>Aida Xhepa</td>\n",
       "      <td>aidaxhepa@gmail.com</td>\n",
       "      <td>202-445-4361</td>\n",
       "      <td>Disctrict 1</td>\n",
       "      <td>9605 52nd Ave</td>\n",
       "      <td>Red Maple</td>\n",
       "      <td>NaN</td>\n",
       "      <td>1</td>\n",
       "    </tr>\n",
       "  </tbody>\n",
       "</table>\n",
       "</div>"
      ],
      "text/plain": [
       "  First and Last Name:       Email Address: Phone Number:     District  \\\n",
       "0          Adam Claudy   atclaudy@gmail.com  301-356-0282  Disctrict 1   \n",
       "1           Aida Xhepa  aidaxhepa@gmail.com  202-445-4361  Disctrict 1   \n",
       "\n",
       "         Address  Species 1 Species 2  Tree quantity  \n",
       "0  9400 49th Ave     Redbud       NaN              1  \n",
       "1  9605 52nd Ave  Red Maple       NaN              1  "
      ]
     },
     "execution_count": 26,
     "metadata": {},
     "output_type": "execute_result"
    }
   ],
   "source": [
    "fall_2025.head(2)"
   ]
  },
  {
   "cell_type": "code",
   "execution_count": 27,
   "id": "5c712395-cea0-4c75-8945-10fb108a350a",
   "metadata": {},
   "outputs": [
    {
     "data": {
      "text/html": [
       "<div>\n",
       "<style scoped>\n",
       "    .dataframe tbody tr th:only-of-type {\n",
       "        vertical-align: middle;\n",
       "    }\n",
       "\n",
       "    .dataframe tbody tr th {\n",
       "        vertical-align: top;\n",
       "    }\n",
       "\n",
       "    .dataframe thead th {\n",
       "        text-align: right;\n",
       "    }\n",
       "</style>\n",
       "<table border=\"1\" class=\"dataframe\">\n",
       "  <thead>\n",
       "    <tr style=\"text-align: right;\">\n",
       "      <th></th>\n",
       "      <th>city_district</th>\n",
       "      <th>address</th>\n",
       "      <th>species</th>\n",
       "      <th>year</th>\n",
       "    </tr>\n",
       "  </thead>\n",
       "  <tbody>\n",
       "    <tr>\n",
       "      <th>0</th>\n",
       "      <td>Disctrict 1</td>\n",
       "      <td>9400 49th Ave</td>\n",
       "      <td>Redbud</td>\n",
       "      <td>2025</td>\n",
       "    </tr>\n",
       "    <tr>\n",
       "      <th>1</th>\n",
       "      <td>Disctrict 1</td>\n",
       "      <td>9605 52nd Ave</td>\n",
       "      <td>Red Maple</td>\n",
       "      <td>2025</td>\n",
       "    </tr>\n",
       "    <tr>\n",
       "      <th>2</th>\n",
       "      <td>Disctrict 3</td>\n",
       "      <td>5012 Roanoke Pl</td>\n",
       "      <td>Apple Serviceberry</td>\n",
       "      <td>2025</td>\n",
       "    </tr>\n",
       "    <tr>\n",
       "      <th>3</th>\n",
       "      <td>Disctrict 2</td>\n",
       "      <td>8619 Rhode Island Ave</td>\n",
       "      <td>Ironwood (Hophornbeam)</td>\n",
       "      <td>2025</td>\n",
       "    </tr>\n",
       "    <tr>\n",
       "      <th>4</th>\n",
       "      <td>Disctrict 1</td>\n",
       "      <td>9505 52nd Ave</td>\n",
       "      <td>Sweetbay Magnolia</td>\n",
       "      <td>2025</td>\n",
       "    </tr>\n",
       "  </tbody>\n",
       "</table>\n",
       "</div>"
      ],
      "text/plain": [
       "  city_district                address                 species  year\n",
       "0   Disctrict 1          9400 49th Ave                  Redbud  2025\n",
       "1   Disctrict 1          9605 52nd Ave               Red Maple  2025\n",
       "2   Disctrict 3        5012 Roanoke Pl      Apple Serviceberry  2025\n",
       "3   Disctrict 2  8619 Rhode Island Ave  Ironwood (Hophornbeam)  2025\n",
       "4   Disctrict 1          9505 52nd Ave       Sweetbay Magnolia  2025"
      ]
     },
     "execution_count": 27,
     "metadata": {},
     "output_type": "execute_result"
    }
   ],
   "source": [
    "fall_2025 = format_table(fall_2025, 2025)\n",
    "fall_2025.head()"
   ]
  },
  {
   "cell_type": "code",
   "execution_count": 28,
   "id": "d242f0bb-03a4-4fa5-89fd-5302f30fb8a6",
   "metadata": {},
   "outputs": [
    {
     "data": {
      "text/html": [
       "<div>\n",
       "<style scoped>\n",
       "    .dataframe tbody tr th:only-of-type {\n",
       "        vertical-align: middle;\n",
       "    }\n",
       "\n",
       "    .dataframe tbody tr th {\n",
       "        vertical-align: top;\n",
       "    }\n",
       "\n",
       "    .dataframe thead th {\n",
       "        text-align: right;\n",
       "    }\n",
       "</style>\n",
       "<table border=\"1\" class=\"dataframe\">\n",
       "  <thead>\n",
       "    <tr style=\"text-align: right;\">\n",
       "      <th></th>\n",
       "      <th>city_district</th>\n",
       "      <th>address</th>\n",
       "      <th>species</th>\n",
       "      <th>year</th>\n",
       "    </tr>\n",
       "  </thead>\n",
       "  <tbody>\n",
       "    <tr>\n",
       "      <th>0</th>\n",
       "      <td>Disctrict 1</td>\n",
       "      <td>9400 49th Ave</td>\n",
       "      <td>Redbud</td>\n",
       "      <td>2025</td>\n",
       "    </tr>\n",
       "    <tr>\n",
       "      <th>1</th>\n",
       "      <td>Disctrict 1</td>\n",
       "      <td>9605 52nd Ave</td>\n",
       "      <td>Red Maple</td>\n",
       "      <td>2025</td>\n",
       "    </tr>\n",
       "    <tr>\n",
       "      <th>2</th>\n",
       "      <td>Disctrict 3</td>\n",
       "      <td>5012 Roanoke Pl</td>\n",
       "      <td>Apple Serviceberry</td>\n",
       "      <td>2025</td>\n",
       "    </tr>\n",
       "    <tr>\n",
       "      <th>3</th>\n",
       "      <td>Disctrict 2</td>\n",
       "      <td>8619 Rhode Island Ave</td>\n",
       "      <td>Ironwood (Hophornbeam)</td>\n",
       "      <td>2025</td>\n",
       "    </tr>\n",
       "    <tr>\n",
       "      <th>4</th>\n",
       "      <td>Disctrict 1</td>\n",
       "      <td>9505 52nd Ave</td>\n",
       "      <td>Sweetbay Magnolia</td>\n",
       "      <td>2025</td>\n",
       "    </tr>\n",
       "    <tr>\n",
       "      <th>...</th>\n",
       "      <td>...</td>\n",
       "      <td>...</td>\n",
       "      <td>...</td>\n",
       "      <td>...</td>\n",
       "    </tr>\n",
       "    <tr>\n",
       "      <th>56</th>\n",
       "      <td>Disctrict 3</td>\n",
       "      <td>7307 Baylor Ave</td>\n",
       "      <td>Overcup Oak</td>\n",
       "      <td>2025</td>\n",
       "    </tr>\n",
       "    <tr>\n",
       "      <th>57</th>\n",
       "      <td>Disctrict 2</td>\n",
       "      <td>8700 49th Ave</td>\n",
       "      <td>Holly</td>\n",
       "      <td>2025</td>\n",
       "    </tr>\n",
       "    <tr>\n",
       "      <th>58</th>\n",
       "      <td>Disctrict 3</td>\n",
       "      <td>7400 Dartmouth Ave</td>\n",
       "      <td>American Hornbeam</td>\n",
       "      <td>2025</td>\n",
       "    </tr>\n",
       "    <tr>\n",
       "      <th>59</th>\n",
       "      <td>Disctrict 1</td>\n",
       "      <td>9727 53rd Ave</td>\n",
       "      <td>Brackens</td>\n",
       "      <td>2025</td>\n",
       "    </tr>\n",
       "    <tr>\n",
       "      <th>60</th>\n",
       "      <td>Disctrict 1</td>\n",
       "      <td>4802 Iroquois St</td>\n",
       "      <td>Brackens</td>\n",
       "      <td>2025</td>\n",
       "    </tr>\n",
       "  </tbody>\n",
       "</table>\n",
       "<p>61 rows × 4 columns</p>\n",
       "</div>"
      ],
      "text/plain": [
       "   city_district                address                 species  year\n",
       "0    Disctrict 1          9400 49th Ave                  Redbud  2025\n",
       "1    Disctrict 1          9605 52nd Ave               Red Maple  2025\n",
       "2    Disctrict 3        5012 Roanoke Pl      Apple Serviceberry  2025\n",
       "3    Disctrict 2  8619 Rhode Island Ave  Ironwood (Hophornbeam)  2025\n",
       "4    Disctrict 1          9505 52nd Ave       Sweetbay Magnolia  2025\n",
       "..           ...                    ...                     ...   ...\n",
       "56   Disctrict 3        7307 Baylor Ave             Overcup Oak  2025\n",
       "57   Disctrict 2          8700 49th Ave                   Holly  2025\n",
       "58   Disctrict 3     7400 Dartmouth Ave       American Hornbeam  2025\n",
       "59   Disctrict 1          9727 53rd Ave                Brackens  2025\n",
       "60   Disctrict 1       4802 Iroquois St                Brackens  2025\n",
       "\n",
       "[61 rows x 4 columns]"
      ]
     },
     "execution_count": 28,
     "metadata": {},
     "output_type": "execute_result"
    }
   ],
   "source": [
    "fall_2025"
   ]
  },
  {
   "cell_type": "markdown",
   "id": "29bc6cf1-f862-4d2c-8c90-4d3c9bf32feb",
   "metadata": {},
   "source": [
    "### Consolidate data"
   ]
  },
  {
   "cell_type": "code",
   "execution_count": 62,
   "id": "5f4530ed-853e-4d10-8154-116562e65c55",
   "metadata": {},
   "outputs": [],
   "source": [
    "consolidated_data = pd.concat([spring_2023,fall_2023,spring_2024_1,spring_2024_2,fall_2024,spring_2025,fall_2025])"
   ]
  },
  {
   "cell_type": "code",
   "execution_count": 63,
   "id": "a18c2a7a-6aa2-4971-b516-8195caf6be88",
   "metadata": {},
   "outputs": [],
   "source": [
    "consolidated_data['address'] = consolidated_data['address'] + \", College Park MD\""
   ]
  },
  {
   "cell_type": "code",
   "execution_count": 64,
   "id": "42b09fa1-a990-4f16-85f5-f412933d41f8",
   "metadata": {},
   "outputs": [],
   "source": [
    "consolidated_data = consolidated_data.reset_index() #Reset index\n",
    "del consolidated_data['index'] #Drop old index"
   ]
  },
  {
   "cell_type": "code",
   "execution_count": 66,
   "id": "7d2eaeb8-545f-44ff-ba9f-7de7fc207339",
   "metadata": {},
   "outputs": [
    {
     "data": {
      "text/html": [
       "<div>\n",
       "<style scoped>\n",
       "    .dataframe tbody tr th:only-of-type {\n",
       "        vertical-align: middle;\n",
       "    }\n",
       "\n",
       "    .dataframe tbody tr th {\n",
       "        vertical-align: top;\n",
       "    }\n",
       "\n",
       "    .dataframe thead th {\n",
       "        text-align: right;\n",
       "    }\n",
       "</style>\n",
       "<table border=\"1\" class=\"dataframe\">\n",
       "  <thead>\n",
       "    <tr style=\"text-align: right;\">\n",
       "      <th></th>\n",
       "      <th>city_district</th>\n",
       "      <th>address</th>\n",
       "      <th>species</th>\n",
       "      <th>year</th>\n",
       "    </tr>\n",
       "  </thead>\n",
       "  <tbody>\n",
       "    <tr>\n",
       "      <th>0</th>\n",
       "      <td>1</td>\n",
       "      <td>5121 Kenesaw St, College Park MD</td>\n",
       "      <td>A.Hornbeam</td>\n",
       "      <td>2023</td>\n",
       "    </tr>\n",
       "    <tr>\n",
       "      <th>1</th>\n",
       "      <td>1</td>\n",
       "      <td>4908 Hollywood Rd, College Park MD</td>\n",
       "      <td>Willow Oaks</td>\n",
       "      <td>2023</td>\n",
       "    </tr>\n",
       "    <tr>\n",
       "      <th>2</th>\n",
       "      <td>1</td>\n",
       "      <td>4822 Erie Street, College Park MD</td>\n",
       "      <td>S. Magnolia</td>\n",
       "      <td>2023</td>\n",
       "    </tr>\n",
       "    <tr>\n",
       "      <th>3</th>\n",
       "      <td>1</td>\n",
       "      <td>5017 Laguna Road, College Park MD</td>\n",
       "      <td>S. Magnolia</td>\n",
       "      <td>2023</td>\n",
       "    </tr>\n",
       "    <tr>\n",
       "      <th>4</th>\n",
       "      <td>1</td>\n",
       "      <td>9118 Autoville Dr. , College Park MD</td>\n",
       "      <td>Am. Witch Hazel</td>\n",
       "      <td>2023</td>\n",
       "    </tr>\n",
       "  </tbody>\n",
       "</table>\n",
       "</div>"
      ],
      "text/plain": [
       "  city_district                               address          species  year\n",
       "0             1      5121 Kenesaw St, College Park MD       A.Hornbeam  2023\n",
       "1             1    4908 Hollywood Rd, College Park MD      Willow Oaks  2023\n",
       "2             1     4822 Erie Street, College Park MD      S. Magnolia  2023\n",
       "3             1     5017 Laguna Road, College Park MD      S. Magnolia  2023\n",
       "4             1  9118 Autoville Dr. , College Park MD  Am. Witch Hazel  2023"
      ]
     },
     "execution_count": 66,
     "metadata": {},
     "output_type": "execute_result"
    }
   ],
   "source": [
    "consolidated_data.head()"
   ]
  },
  {
   "cell_type": "markdown",
   "id": "9d053752-555c-45de-9496-8154983a2ef4",
   "metadata": {},
   "source": [
    "### Consolidate species names"
   ]
  },
  {
   "cell_type": "code",
   "execution_count": 67,
   "id": "40cebdbb-bf4d-4d8c-9c37-e574d2295cae",
   "metadata": {
    "scrolled": true
   },
   "outputs": [],
   "source": [
    "species_names = list(consolidated_data['species'].unique())"
   ]
  },
  {
   "cell_type": "code",
   "execution_count": 68,
   "id": "c45fd5cb-808f-4c2d-8d98-36e4e7d72848",
   "metadata": {},
   "outputs": [
    {
     "data": {
      "text/plain": [
       "Index([80], dtype='int64')"
      ]
     },
     "execution_count": 68,
     "metadata": {},
     "output_type": "execute_result"
    }
   ],
   "source": [
    "consolidated_data.index[consolidated_data['species']=='2 Southern Magnolia']"
   ]
  },
  {
   "cell_type": "markdown",
   "id": "11ab3be5-c5b3-4f34-a75b-b3f4ff26f3a2",
   "metadata": {},
   "source": [
    "Correct names with numbers"
   ]
  },
  {
   "cell_type": "code",
   "execution_count": 69,
   "id": "c6523186-ed96-41d0-b48d-868145c252dd",
   "metadata": {},
   "outputs": [
    {
     "data": {
      "text/plain": [
       "city_district                                         2\n",
       "address          8323 Rhode Island Ave, College Park MD\n",
       "species                             2 Southern Magnolia\n",
       "year                                               2024\n",
       "Name: 80, dtype: object"
      ]
     },
     "execution_count": 69,
     "metadata": {},
     "output_type": "execute_result"
    }
   ],
   "source": [
    "consolidated_data.loc[80,]"
   ]
  },
  {
   "cell_type": "code",
   "execution_count": 71,
   "id": "fb9a7057-255d-43cc-84ee-97a214832b6d",
   "metadata": {},
   "outputs": [],
   "source": [
    "consolidated_data.at[80,'species'] = 'Southern Magnolia'"
   ]
  },
  {
   "cell_type": "code",
   "execution_count": 72,
   "id": "76988099-4ddb-4e13-9f92-b08f53415b56",
   "metadata": {},
   "outputs": [
    {
     "data": {
      "text/plain": [
       "Index([184, 225, 226, 227], dtype='int64')"
      ]
     },
     "execution_count": 72,
     "metadata": {},
     "output_type": "execute_result"
    }
   ],
   "source": [
    "consolidated_data.index[consolidated_data['species']=='TBD']"
   ]
  },
  {
   "cell_type": "code",
   "execution_count": 73,
   "id": "96d64d06-d8d7-4c51-b131-ad8a8b2121d5",
   "metadata": {},
   "outputs": [],
   "source": [
    "consolidated_data.at[184,'species'] = 'Eastern Red Cedar'\n",
    "consolidated_data.at[225,'species'] = 'Eastern Red Cedar'\n",
    "consolidated_data.at[226,'species'] = 'Eastern Red Cedar'\n",
    "consolidated_data.at[227,'species'] = 'Eastern Red Cedar'"
   ]
  },
  {
   "cell_type": "markdown",
   "id": "70be9620-9dae-4c0b-ad74-b3df05695e58",
   "metadata": {},
   "source": [
    "### Reaload the unique species values"
   ]
  },
  {
   "cell_type": "code",
   "execution_count": 74,
   "id": "6142d7ec-54cf-4577-b290-cdd278ae2fd5",
   "metadata": {},
   "outputs": [],
   "source": [
    "species_names = []"
   ]
  },
  {
   "cell_type": "code",
   "execution_count": 75,
   "id": "a2e67d65-3370-4835-9775-8056726f0fea",
   "metadata": {},
   "outputs": [],
   "source": [
    "species_fields = []\n",
    "species_fields.append(list(consolidated_data['species'].unique()))"
   ]
  },
  {
   "cell_type": "code",
   "execution_count": 76,
   "id": "86d4f837-bb0a-4d9d-9ad4-b89dce69e5b4",
   "metadata": {
    "scrolled": true
   },
   "outputs": [],
   "source": [
    "for list_item in species_fields:\n",
    "    for item in list_item:\n",
    "        species_names.append(item)"
   ]
  },
  {
   "cell_type": "markdown",
   "id": "3920defa-8307-49a6-9443-671d2af080dd",
   "metadata": {},
   "source": [
    "### Create dictionary for the new species name"
   ]
  },
  {
   "cell_type": "code",
   "execution_count": 77,
   "id": "69e7b310-bd67-432d-a04c-dc61603c16a0",
   "metadata": {},
   "outputs": [],
   "source": [
    "species_names_keys = {}\n",
    "\n",
    "for name in species_names:\n",
    "    new_name = ''\n",
    "    if 'A.' in str(name):\n",
    "        new_name = name.replace('A.','American ').lstrip(' ')\n",
    "        species_names_keys[name] = new_name.title()\n",
    "    elif 'Am.' in str(name):\n",
    "        new_name = name.replace('Am.','American').lstrip(' ')\n",
    "        species_names_keys[name] = new_name.title()\n",
    "    elif 'Amer ' in str(name):\n",
    "        new_name = name.replace('Amer ','American ').lstrip(' ')\n",
    "        species_names_keys[name] = new_name.title()\n",
    "    elif 'Americanholly' in str(name):\n",
    "        new_name = 'American Holly'\n",
    "        species_names_keys[name] = new_name.title()\n",
    "    elif 'Am ' in str(name):\n",
    "        new_name = name.replace('Am ','American ').lstrip(' ')\n",
    "        species_names_keys[name] = new_name.title()\n",
    "    elif 'S.' in str(name):\n",
    "        new_name = name.replace('S.','Southern').lstrip(' ')\n",
    "        species_names_keys[name] = new_name.title()\n",
    "    elif ' Wil ' in str(name):\n",
    "        new_name = name.replace(' Wil ','Willow ').lstrip(' ')\n",
    "        species_names_keys[name] = new_name.title()\n",
    "    elif 'Oaks' in str(name):\n",
    "        new_name = name.replace('Oaks','Oak').lstrip(' ')\n",
    "        species_names_keys[name] = new_name.title().lstrip(' ')\n",
    "    elif ' Magnol' in str(name):\n",
    "        new_name = re.sub('Magnol$', 'Magnolia', name)\n",
    "        species_names_keys[name] = new_name.title()\n",
    "    elif 'Baldcypress' in str(name):\n",
    "        new_name = re.sub('Baldcypress$', 'Bald Cypress', name)\n",
    "        species_names_keys[name] = new_name.title()\n",
    "    elif 'Honeylocust' in str(name):\n",
    "        new_name = re.sub('Honeylocust$', 'Honey locust', name)\n",
    "        species_names_keys[name] = new_name.title()\n",
    "    elif ' Eastern Redcedar' in str(name):\n",
    "        new_name = 'Eastern Red cedar'\n",
    "        species_names_keys[name] = new_name.title()\n",
    "    elif ' Freemen Maple' in str(name):\n",
    "        new_name = 'Freeman Maple'\n",
    "        species_names_keys[name] = new_name.title().lstrip(' ')\n",
    "    else:\n",
    "        new_name = str(name).strip()\n",
    "        species_names_keys[name] = new_name.title().lstrip(' ')\n",
    "        "
   ]
  },
  {
   "cell_type": "markdown",
   "id": "00d73e7a-dc25-4e7c-984c-d20efea2580a",
   "metadata": {},
   "source": [
    "### Update values"
   ]
  },
  {
   "cell_type": "code",
   "execution_count": 79,
   "id": "23789f53-ee6f-4133-8163-9396f8fab69d",
   "metadata": {},
   "outputs": [],
   "source": [
    "for index, row in consolidated_data.iterrows():\n",
    "    if row[\"species\"] in list(species_names_keys.keys()):\n",
    "        consolidated_data.at[index, \"species\"] = str(species_names_keys[row[\"species\"]])"
   ]
  },
  {
   "cell_type": "code",
   "execution_count": 80,
   "id": "df295acf-7ae2-4758-a0f5-dfb522c72ef1",
   "metadata": {},
   "outputs": [
    {
     "data": {
      "text/html": [
       "<div>\n",
       "<style scoped>\n",
       "    .dataframe tbody tr th:only-of-type {\n",
       "        vertical-align: middle;\n",
       "    }\n",
       "\n",
       "    .dataframe tbody tr th {\n",
       "        vertical-align: top;\n",
       "    }\n",
       "\n",
       "    .dataframe thead th {\n",
       "        text-align: right;\n",
       "    }\n",
       "</style>\n",
       "<table border=\"1\" class=\"dataframe\">\n",
       "  <thead>\n",
       "    <tr style=\"text-align: right;\">\n",
       "      <th></th>\n",
       "      <th>city_district</th>\n",
       "      <th>address</th>\n",
       "      <th>species</th>\n",
       "      <th>year</th>\n",
       "    </tr>\n",
       "  </thead>\n",
       "  <tbody>\n",
       "    <tr>\n",
       "      <th>0</th>\n",
       "      <td>1</td>\n",
       "      <td>5121 Kenesaw St, College Park MD</td>\n",
       "      <td>American Hornbeam</td>\n",
       "      <td>2023</td>\n",
       "    </tr>\n",
       "    <tr>\n",
       "      <th>1</th>\n",
       "      <td>1</td>\n",
       "      <td>4908 Hollywood Rd, College Park MD</td>\n",
       "      <td>Willow Oak</td>\n",
       "      <td>2023</td>\n",
       "    </tr>\n",
       "    <tr>\n",
       "      <th>2</th>\n",
       "      <td>1</td>\n",
       "      <td>4822 Erie Street, College Park MD</td>\n",
       "      <td>Southern Magnolia</td>\n",
       "      <td>2023</td>\n",
       "    </tr>\n",
       "    <tr>\n",
       "      <th>3</th>\n",
       "      <td>1</td>\n",
       "      <td>5017 Laguna Road, College Park MD</td>\n",
       "      <td>Southern Magnolia</td>\n",
       "      <td>2023</td>\n",
       "    </tr>\n",
       "    <tr>\n",
       "      <th>4</th>\n",
       "      <td>1</td>\n",
       "      <td>9118 Autoville Dr. , College Park MD</td>\n",
       "      <td>American Witch Hazel</td>\n",
       "      <td>2023</td>\n",
       "    </tr>\n",
       "    <tr>\n",
       "      <th>...</th>\n",
       "      <td>...</td>\n",
       "      <td>...</td>\n",
       "      <td>...</td>\n",
       "      <td>...</td>\n",
       "    </tr>\n",
       "    <tr>\n",
       "      <th>338</th>\n",
       "      <td>Disctrict 3</td>\n",
       "      <td>7307 Baylor Ave, College Park MD</td>\n",
       "      <td>Overcup Oak</td>\n",
       "      <td>2025</td>\n",
       "    </tr>\n",
       "    <tr>\n",
       "      <th>339</th>\n",
       "      <td>Disctrict 2</td>\n",
       "      <td>8700 49th Ave, College Park MD</td>\n",
       "      <td>Holly</td>\n",
       "      <td>2025</td>\n",
       "    </tr>\n",
       "    <tr>\n",
       "      <th>340</th>\n",
       "      <td>Disctrict 3</td>\n",
       "      <td>7400 Dartmouth Ave, College Park MD</td>\n",
       "      <td>American Hornbeam</td>\n",
       "      <td>2025</td>\n",
       "    </tr>\n",
       "    <tr>\n",
       "      <th>341</th>\n",
       "      <td>Disctrict 1</td>\n",
       "      <td>9727 53rd Ave, College Park MD</td>\n",
       "      <td>Brackens</td>\n",
       "      <td>2025</td>\n",
       "    </tr>\n",
       "    <tr>\n",
       "      <th>342</th>\n",
       "      <td>Disctrict 1</td>\n",
       "      <td>4802 Iroquois St, College Park MD</td>\n",
       "      <td>Brackens</td>\n",
       "      <td>2025</td>\n",
       "    </tr>\n",
       "  </tbody>\n",
       "</table>\n",
       "<p>343 rows × 4 columns</p>\n",
       "</div>"
      ],
      "text/plain": [
       "    city_district                               address               species  \\\n",
       "0               1      5121 Kenesaw St, College Park MD     American Hornbeam   \n",
       "1               1    4908 Hollywood Rd, College Park MD            Willow Oak   \n",
       "2               1     4822 Erie Street, College Park MD     Southern Magnolia   \n",
       "3               1     5017 Laguna Road, College Park MD     Southern Magnolia   \n",
       "4               1  9118 Autoville Dr. , College Park MD  American Witch Hazel   \n",
       "..            ...                                   ...                   ...   \n",
       "338   Disctrict 3      7307 Baylor Ave, College Park MD           Overcup Oak   \n",
       "339   Disctrict 2        8700 49th Ave, College Park MD                 Holly   \n",
       "340   Disctrict 3   7400 Dartmouth Ave, College Park MD     American Hornbeam   \n",
       "341   Disctrict 1        9727 53rd Ave, College Park MD              Brackens   \n",
       "342   Disctrict 1     4802 Iroquois St, College Park MD              Brackens   \n",
       "\n",
       "     year  \n",
       "0    2023  \n",
       "1    2023  \n",
       "2    2023  \n",
       "3    2023  \n",
       "4    2023  \n",
       "..    ...  \n",
       "338  2025  \n",
       "339  2025  \n",
       "340  2025  \n",
       "341  2025  \n",
       "342  2025  \n",
       "\n",
       "[343 rows x 4 columns]"
      ]
     },
     "execution_count": 80,
     "metadata": {},
     "output_type": "execute_result"
    }
   ],
   "source": [
    "consolidated_data"
   ]
  },
  {
   "cell_type": "code",
   "execution_count": 82,
   "id": "ed67cd0a-9239-4b44-a2c7-03502eb57798",
   "metadata": {},
   "outputs": [],
   "source": [
    "file = r\"C:\\Users\\pmedina\\Documents\\Projects\\Colle_Park_Residential_Tree_Planting_PRogram\\method-calculating-carbon-sequestration-trees-urban-and-suburban-settings.pdf\""
   ]
  },
  {
   "cell_type": "code",
   "execution_count": 99,
   "id": "f8cad541-1cf6-4fbd-a440-bcf61f5305b5",
   "metadata": {},
   "outputs": [],
   "source": [
    "from PyPDF2 import PdfReader"
   ]
  },
  {
   "cell_type": "code",
   "execution_count": 100,
   "id": "d954535d-da72-4e34-94bc-8b2f2d857135",
   "metadata": {},
   "outputs": [],
   "source": [
    "reader = PdfReader(file)"
   ]
  },
  {
   "cell_type": "code",
   "execution_count": 101,
   "id": "c8c21d33-79e7-4232-b910-be6c05c3e260",
   "metadata": {},
   "outputs": [
    {
     "name": "stdout",
     "output_type": "stream",
     "text": [
      "16\n"
     ]
    }
   ],
   "source": [
    "print(len(reader.pages))"
   ]
  },
  {
   "cell_type": "code",
   "execution_count": 106,
   "id": "ecaedbb3-3f2b-4440-8b4d-214b09616756",
   "metadata": {},
   "outputs": [
    {
     "data": {
      "text/plain": [
       "'Method for Calculating Carbon Sequestration by Trees in Urban and Suburban Settings 7Table 1. Common Urban Tree Species\\nSpecies Type Growth Species Type Growth \\nRate Rate\\nAilanthus, Ailanthus altissima Maple, bigleaf, Acer macrophyllum\\nAlder, European, Alnus glutinosa\\nAsh, green, Fraxinus pennsylvanica\\nAsh, mountain, American ,Sorbus americana\\nAsh, white, Fraxinus americanaHF H S\\nHF H MHF H MHM H MHF H SMaple, Norway, Acer platanoides\\nMaple, red, Acer rubrum\\nMaple, silver, Acer saccharinum\\nMaple, sugar, Acer saccharum\\nAspen, bigtooth, Populus grandidentata Mulberry, red, Morus rubra\\nAspen, quaking, Populus tremuloides Oak, black, Quercus velutina\\nBaldcypress, Taxodium distichum Oak, blue, Quercus douglasii\\nBasswood, American, Tilia americana ,O a k ,  b u r ,  Quercus macrocarpa\\nBeech, American, Fagus grandifolia Oak, California black, Quercus kelloggiiHM H F\\nHF H M\\nCF H M\\nHF H SHS H S\\nBirch, paper (white), Betula papyrifera Oak, California White, Quercus lobata\\nBirch, river, Betula nigra Oak, canyon live, Quercus chrysolepsis\\nBirch, yellow, Betula alleghaniensis Oak, chestnut, Quercus prinus\\nBoxelder, Acer negundo Oak, Chinkapin, Quercus muehlenbergii\\nBuckeye, Ohio, Aesculus glabra Oak, Laurel, Quercus laurifoliaHM H M\\nHM H SHS H SHF H MHS H F\\nCatalpa, northern, Catalpa speciosa Oak, live, Quercus virginiana\\nCedar-red, eastern, Juniperus virginiana Oak, northern red, Quercus rubra\\nCedar-white, northern, Thuja occidentalis Oak, overcup , Quercus lyrata\\nCherry, black, Prunus serotina Oak, pin, Quercus palustris\\nCherry, pin, Prunus pennsylvanica Oak, scarlet, Quercus coccineaHF H F\\nCM H FCM H S\\nHF H FHM H F\\nCottonwood, eastern, Populus deltoides Oak, swamp white, Quercus bicolor\\nCrabapple, Malus spp. Oak, water, Quercus nigra\\nCucumbertree, Magnolia acuminata Oak, white, Quercus alba\\nDogwood, flowering, Cornus florida Oak, willow, Quercus phellos\\nElm, American, Ulmus americana Pecan, Carya illinoensisHM H M\\nHM H MHF H SHS H MHF H S\\nElm, Chinese, Ulmus parvifolia Pine, European black, Pinus nigra\\nElm, rock, Ulmus thomasii Pine, jack, Pinus banksiana\\nElm, September, Ulmus serotina Pine, loblolly, Pinus taeda\\nElm, Siberian, Ulmus pumila Pine, longleaf, Pinus palustris\\nElm, slippery, Ulmus rubra Pine, ponderosa, Pinus ponderosaHM C S\\nHS C FHF C FHF C FHM C F\\nFir, balsam, Abies balsamea Pine, red, Pinus resinosa\\nFir, Douglas, Pseudotsuga menziesiiGinkgo, Ginkgo biloba\\nHackberry, Celtis occidentalis\\nHawthorne, Crataegus  spp.CS C F\\nCF C S\\nHS C FHF C FHM C MPine, Scotch, Pinus sylvestris\\nPine, shortleaf, Pinus echinata\\nPine, slash, Pinus elliottii\\nPine, Virginia,  Pinus virginiana\\nHemlock, eastern, Tsuga canadensis Pine, white eastern, Pinus strobus\\nHickory, bitternut, Carya cordiformis Poplar, yellow, Liriodendron tulipifera\\nHickory, mockernut, Carya tomentosa Redbud, eastern, Cercis canadensis\\nHickory, shagbark, Carya ovata Sassafras, Sassafras albidum\\nHickory, shellbark, Carya laciniosa CM C F\\nHS H FHM H MHS H MHS C S Spruce, black, Picea mariana\\nHickory, pignut, Carya glabra  Spruce, blue, Picea pungens\\nHolly, American, Ilex opaca Spruce, Norway, Picea abies\\nHoneylocust, Gleditsia triacanthos Spruce, red, Picea rubens\\nHophornbeam, eastern, Ostrya virginiana Spruce, white, Picea glauca\\nHorsechestnut, common, Aesculus Sugarberry, Celtis laevigata\\nhippocastanumHM C M\\nHS C MHF C SHS C MHF H F\\nKentucky coffeetree, Gymnocladus dioicus Sweetgum, Liquidambar styraciflua\\nLinden, little-leaf, Tilia cordata Sycamore, Platanus occidentalis\\nLocust, black, Robinia pseudoacacia Tamarack, Larix laricina\\nLondon plane tree Platanus_X_acerifolia Walnut, black, Juglans nigra\\nMagnolia, southern, Magnolia grandifolia Willow, black, Salix nigraCF H F\\nHF H FHF C FHF H FHM H F\\nType: H = Hardwood, C = Conifer    Growth Rate: S = Slow, M = Moderate, F = Fast'"
      ]
     },
     "execution_count": 106,
     "metadata": {},
     "output_type": "execute_result"
    }
   ],
   "source": [
    "page = reader.pages[7]\n",
    "text = page.extract_text()\n",
    "text"
   ]
  },
  {
   "cell_type": "code",
   "execution_count": 60,
   "id": "b612a7da-4b38-4528-917b-594e24e3f200",
   "metadata": {},
   "outputs": [],
   "source": [
    "consolidated_data.to_csv(\"consolidated.csv\")"
   ]
  },
  {
   "cell_type": "markdown",
   "id": "dcabc3da-1b10-4aca-b22a-2f0f9f998c07",
   "metadata": {},
   "source": [
    "### Clean coordinates"
   ]
  },
  {
   "cell_type": "markdown",
   "id": "137a6db6-4ddd-49ef-bc10-0858d5e1d8f9",
   "metadata": {},
   "source": [
    "#### Check the missing lat/lon"
   ]
  },
  {
   "cell_type": "code",
   "execution_count": null,
   "id": "1f6f416d-b827-4a44-9964-b2696545919f",
   "metadata": {},
   "outputs": [],
   "source": [
    "consolidated_data[consolidated_data['lat'] == 0]"
   ]
  },
  {
   "cell_type": "markdown",
   "id": "37b070ae-0b91-4808-83fe-f70c8fc0d780",
   "metadata": {},
   "source": [
    "##### De Pauw Place"
   ]
  },
  {
   "cell_type": "code",
   "execution_count": null,
   "id": "8cc79917-4f55-431f-bc00-9346631a17da",
   "metadata": {},
   "outputs": [],
   "source": [
    "depauw_pl_3504 = geopandas.tools.geocode('3504 De Pauw Place, College Park MD')\n",
    "depauw_pl_3504"
   ]
  },
  {
   "cell_type": "code",
   "execution_count": null,
   "id": "94e13a7e-a43f-46e3-84f5-a62610696915",
   "metadata": {},
   "outputs": [],
   "source": [
    "depauw_pl_3504_lat = depauw_pl_3504.centroid.y\n",
    "depauw_pl_3504_lon = depauw_pl_3504.centroid.x\n",
    "print(\"Latitude: %.4f \\nLongitude: %.4f\" % (depauw_pl_3504_lat, depauw_pl_3504_lon))"
   ]
  },
  {
   "cell_type": "code",
   "execution_count": null,
   "id": "e0fa8f54-798b-401c-b7c5-41b5b80d1962",
   "metadata": {},
   "outputs": [],
   "source": [
    "consolidated_data.at[57, 'lat'] = depauw_pl_3504_lat\n",
    "consolidated_data.at[57, 'lon'] = depauw_pl_3504_lon"
   ]
  },
  {
   "cell_type": "markdown",
   "id": "0e2ae7ae-7962-466e-af21-975a074ca674",
   "metadata": {},
   "source": [
    "##### Saint Andrews Place"
   ]
  },
  {
   "cell_type": "code",
   "execution_count": null,
   "id": "81e61208-324e-4c8c-bce4-3e5dff6ed55f",
   "metadata": {},
   "outputs": [],
   "source": [
    "saint_andrews_pl = geopandas.tools.geocode('9224 Saint Andrews Pl, College Park MD')\n",
    "saint_andrews_pl"
   ]
  },
  {
   "cell_type": "code",
   "execution_count": null,
   "id": "3f039117-2b5b-433c-ac87-e8c1cff87618",
   "metadata": {},
   "outputs": [],
   "source": [
    "saint_andrews_pl_lat = saint_andrews_pl.centroid.y\n",
    "saint_andrews_pl_lon = saint_andrews_pl.centroid.x\n",
    "print(\"Latitude: %.4f \\nLongitude: %.4f\" % (saint_andrews_pl_lat, saint_andrews_pl_lon))"
   ]
  },
  {
   "cell_type": "code",
   "execution_count": null,
   "id": "a2cda304-aeae-41b2-8bc3-955159d7c13c",
   "metadata": {},
   "outputs": [],
   "source": [
    "consolidated_data.at[154, 'lat'] = saint_andrews_pl_lat\n",
    "consolidated_data.at[154, 'lon'] = saint_andrews_pl_lon"
   ]
  },
  {
   "cell_type": "markdown",
   "id": "0abc06f7-3b9e-4f85-a8cd-1eb385970238",
   "metadata": {},
   "source": [
    "# Calculate Variables\n",
    "Will calcualte the following:\n",
    "* Carbon sequestration\n",
    "* Rainfall interception\n",
    "* Energy stored"
   ]
  },
  {
   "cell_type": "markdown",
   "id": "8d65e16a-d471-4d99-bc84-43373dc71881",
   "metadata": {},
   "source": [
    "## Carbon Sequestration"
   ]
  },
  {
   "cell_type": "code",
   "execution_count": 34,
   "id": "67793717-48d6-4a5a-bf8d-7bdde16323bd",
   "metadata": {},
   "outputs": [
    {
     "data": {
      "text/html": [
       "<div>\n",
       "<style scoped>\n",
       "    .dataframe tbody tr th:only-of-type {\n",
       "        vertical-align: middle;\n",
       "    }\n",
       "\n",
       "    .dataframe tbody tr th {\n",
       "        vertical-align: top;\n",
       "    }\n",
       "\n",
       "    .dataframe thead th {\n",
       "        text-align: right;\n",
       "    }\n",
       "</style>\n",
       "<table border=\"1\" class=\"dataframe\">\n",
       "  <thead>\n",
       "    <tr style=\"text-align: right;\">\n",
       "      <th></th>\n",
       "      <th>city_district</th>\n",
       "      <th>address</th>\n",
       "      <th>species</th>\n",
       "      <th>year</th>\n",
       "    </tr>\n",
       "  </thead>\n",
       "  <tbody>\n",
       "    <tr>\n",
       "      <th>0</th>\n",
       "      <td>1</td>\n",
       "      <td>5121 Kenesaw St, College Park MD</td>\n",
       "      <td>A.Hornbeam</td>\n",
       "      <td>2023</td>\n",
       "    </tr>\n",
       "    <tr>\n",
       "      <th>1</th>\n",
       "      <td>1</td>\n",
       "      <td>4908 Hollywood Rd, College Park MD</td>\n",
       "      <td>Willow Oaks</td>\n",
       "      <td>2023</td>\n",
       "    </tr>\n",
       "    <tr>\n",
       "      <th>2</th>\n",
       "      <td>1</td>\n",
       "      <td>4822 Erie Street, College Park MD</td>\n",
       "      <td>S. Magnolia</td>\n",
       "      <td>2023</td>\n",
       "    </tr>\n",
       "    <tr>\n",
       "      <th>3</th>\n",
       "      <td>1</td>\n",
       "      <td>5017 Laguna Road, College Park MD</td>\n",
       "      <td>S. Magnolia</td>\n",
       "      <td>2023</td>\n",
       "    </tr>\n",
       "    <tr>\n",
       "      <th>4</th>\n",
       "      <td>1</td>\n",
       "      <td>9118 Autoville Dr. , College Park MD</td>\n",
       "      <td>Am. Witch Hazel</td>\n",
       "      <td>2023</td>\n",
       "    </tr>\n",
       "    <tr>\n",
       "      <th>...</th>\n",
       "      <td>...</td>\n",
       "      <td>...</td>\n",
       "      <td>...</td>\n",
       "      <td>...</td>\n",
       "    </tr>\n",
       "    <tr>\n",
       "      <th>56</th>\n",
       "      <td>Disctrict 3</td>\n",
       "      <td>7307 Baylor Ave, College Park MD</td>\n",
       "      <td>Overcup Oak</td>\n",
       "      <td>2025</td>\n",
       "    </tr>\n",
       "    <tr>\n",
       "      <th>57</th>\n",
       "      <td>Disctrict 2</td>\n",
       "      <td>8700 49th Ave, College Park MD</td>\n",
       "      <td>Holly</td>\n",
       "      <td>2025</td>\n",
       "    </tr>\n",
       "    <tr>\n",
       "      <th>58</th>\n",
       "      <td>Disctrict 3</td>\n",
       "      <td>7400 Dartmouth Ave, College Park MD</td>\n",
       "      <td>American Hornbeam</td>\n",
       "      <td>2025</td>\n",
       "    </tr>\n",
       "    <tr>\n",
       "      <th>59</th>\n",
       "      <td>Disctrict 1</td>\n",
       "      <td>9727 53rd Ave, College Park MD</td>\n",
       "      <td>Brackens</td>\n",
       "      <td>2025</td>\n",
       "    </tr>\n",
       "    <tr>\n",
       "      <th>60</th>\n",
       "      <td>Disctrict 1</td>\n",
       "      <td>4802 Iroquois St, College Park MD</td>\n",
       "      <td>Brackens</td>\n",
       "      <td>2025</td>\n",
       "    </tr>\n",
       "  </tbody>\n",
       "</table>\n",
       "<p>343 rows × 4 columns</p>\n",
       "</div>"
      ],
      "text/plain": [
       "   city_district                               address            species  \\\n",
       "0              1      5121 Kenesaw St, College Park MD         A.Hornbeam   \n",
       "1              1    4908 Hollywood Rd, College Park MD        Willow Oaks   \n",
       "2              1     4822 Erie Street, College Park MD        S. Magnolia   \n",
       "3              1     5017 Laguna Road, College Park MD        S. Magnolia   \n",
       "4              1  9118 Autoville Dr. , College Park MD    Am. Witch Hazel   \n",
       "..           ...                                   ...                ...   \n",
       "56   Disctrict 3      7307 Baylor Ave, College Park MD        Overcup Oak   \n",
       "57   Disctrict 2        8700 49th Ave, College Park MD              Holly   \n",
       "58   Disctrict 3   7400 Dartmouth Ave, College Park MD  American Hornbeam   \n",
       "59   Disctrict 1        9727 53rd Ave, College Park MD           Brackens   \n",
       "60   Disctrict 1     4802 Iroquois St, College Park MD           Brackens   \n",
       "\n",
       "    year  \n",
       "0   2023  \n",
       "1   2023  \n",
       "2   2023  \n",
       "3   2023  \n",
       "4   2023  \n",
       "..   ...  \n",
       "56  2025  \n",
       "57  2025  \n",
       "58  2025  \n",
       "59  2025  \n",
       "60  2025  \n",
       "\n",
       "[343 rows x 4 columns]"
      ]
     },
     "execution_count": 34,
     "metadata": {},
     "output_type": "execute_result"
    }
   ],
   "source": [
    "consolidated_data"
   ]
  },
  {
   "cell_type": "markdown",
   "id": "125047bc-10ca-4673-8a22-862f0b71a2f7",
   "metadata": {},
   "source": [
    "## Geocode data"
   ]
  },
  {
   "cell_type": "code",
   "execution_count": 33,
   "id": "1cc2417e-25c6-4e9f-b71c-8e8026a83254",
   "metadata": {
    "scrolled": true
   },
   "outputs": [
    {
     "name": "stdout",
     "output_type": "stream",
     "text": [
      "0.58 %                                            \r"
     ]
    },
    {
     "ename": "KeyboardInterrupt",
     "evalue": "",
     "output_type": "error",
     "traceback": [
      "\u001b[1;31m---------------------------------------------------------------------------\u001b[0m",
      "\u001b[1;31mKeyboardInterrupt\u001b[0m                         Traceback (most recent call last)",
      "Cell \u001b[1;32mIn[33], line 1\u001b[0m\n\u001b[1;32m----> 1\u001b[0m coordinates \u001b[38;5;241m=\u001b[39m geocode(consolidated_data, \u001b[38;5;124m'\u001b[39m\u001b[38;5;124maddress\u001b[39m\u001b[38;5;124m'\u001b[39m)\n\u001b[0;32m      3\u001b[0m consolidated_data[\u001b[38;5;124m\"\u001b[39m\u001b[38;5;124mlat\u001b[39m\u001b[38;5;124m\"\u001b[39m] \u001b[38;5;241m=\u001b[39m coordinates[\u001b[38;5;241m0\u001b[39m]\n\u001b[0;32m      4\u001b[0m consolidated_data[\u001b[38;5;124m\"\u001b[39m\u001b[38;5;124mlon\u001b[39m\u001b[38;5;124m\"\u001b[39m] \u001b[38;5;241m=\u001b[39m coordinates[\u001b[38;5;241m1\u001b[39m]\n",
      "Cell \u001b[1;32mIn[11], line 13\u001b[0m, in \u001b[0;36mgeocode\u001b[1;34m(table, field)\u001b[0m\n\u001b[0;32m     10\u001b[0m \u001b[38;5;66;03m#For each row\u001b[39;00m\n\u001b[0;32m     11\u001b[0m \u001b[38;5;28;01mfor\u001b[39;00m index, row \u001b[38;5;129;01min\u001b[39;00m table\u001b[38;5;241m.\u001b[39miterrows():\n\u001b[0;32m     12\u001b[0m     \u001b[38;5;66;03m#Geolocate passing the address field for the geolocator\u001b[39;00m\n\u001b[1;32m---> 13\u001b[0m     location \u001b[38;5;241m=\u001b[39m geolocator\u001b[38;5;241m.\u001b[39mgeocode(row[field], timeout\u001b[38;5;241m=\u001b[39m\u001b[38;5;28;01mNone\u001b[39;00m)\n\u001b[0;32m     14\u001b[0m     \u001b[38;5;28;01mif\u001b[39;00m location \u001b[38;5;129;01mis\u001b[39;00m \u001b[38;5;129;01mnot\u001b[39;00m \u001b[38;5;28;01mNone\u001b[39;00m: \u001b[38;5;66;03m#If the geolocator returns a valid value\u001b[39;00m\n\u001b[0;32m     15\u001b[0m         latitude \u001b[38;5;241m=\u001b[39m location\u001b[38;5;241m.\u001b[39mlatitude \u001b[38;5;66;03m#extract the latitude value\u001b[39;00m\n",
      "File \u001b[1;32m~\\AppData\\Local\\anaconda3\\Lib\\site-packages\\geopy\\geocoders\\nominatim.py:297\u001b[0m, in \u001b[0;36mNominatim.geocode\u001b[1;34m(self, query, exactly_one, timeout, limit, addressdetails, language, geometry, extratags, country_codes, viewbox, bounded, featuretype, namedetails)\u001b[0m\n\u001b[0;32m    295\u001b[0m logger\u001b[38;5;241m.\u001b[39mdebug(\u001b[38;5;124m\"\u001b[39m\u001b[38;5;132;01m%s\u001b[39;00m\u001b[38;5;124m.geocode: \u001b[39m\u001b[38;5;132;01m%s\u001b[39;00m\u001b[38;5;124m\"\u001b[39m, \u001b[38;5;28mself\u001b[39m\u001b[38;5;241m.\u001b[39m\u001b[38;5;18m__class__\u001b[39m\u001b[38;5;241m.\u001b[39m\u001b[38;5;18m__name__\u001b[39m, url)\n\u001b[0;32m    296\u001b[0m callback \u001b[38;5;241m=\u001b[39m partial(\u001b[38;5;28mself\u001b[39m\u001b[38;5;241m.\u001b[39m_parse_json, exactly_one\u001b[38;5;241m=\u001b[39mexactly_one)\n\u001b[1;32m--> 297\u001b[0m \u001b[38;5;28;01mreturn\u001b[39;00m \u001b[38;5;28mself\u001b[39m\u001b[38;5;241m.\u001b[39m_call_geocoder(url, callback, timeout\u001b[38;5;241m=\u001b[39mtimeout)\n",
      "File \u001b[1;32m~\\AppData\\Local\\anaconda3\\Lib\\site-packages\\geopy\\geocoders\\base.py:368\u001b[0m, in \u001b[0;36mGeocoder._call_geocoder\u001b[1;34m(self, url, callback, timeout, is_json, headers)\u001b[0m\n\u001b[0;32m    366\u001b[0m \u001b[38;5;28;01mtry\u001b[39;00m:\n\u001b[0;32m    367\u001b[0m     \u001b[38;5;28;01mif\u001b[39;00m is_json:\n\u001b[1;32m--> 368\u001b[0m         result \u001b[38;5;241m=\u001b[39m \u001b[38;5;28mself\u001b[39m\u001b[38;5;241m.\u001b[39madapter\u001b[38;5;241m.\u001b[39mget_json(url, timeout\u001b[38;5;241m=\u001b[39mtimeout, headers\u001b[38;5;241m=\u001b[39mreq_headers)\n\u001b[0;32m    369\u001b[0m     \u001b[38;5;28;01melse\u001b[39;00m:\n\u001b[0;32m    370\u001b[0m         result \u001b[38;5;241m=\u001b[39m \u001b[38;5;28mself\u001b[39m\u001b[38;5;241m.\u001b[39madapter\u001b[38;5;241m.\u001b[39mget_text(url, timeout\u001b[38;5;241m=\u001b[39mtimeout, headers\u001b[38;5;241m=\u001b[39mreq_headers)\n",
      "File \u001b[1;32m~\\AppData\\Local\\anaconda3\\Lib\\site-packages\\geopy\\adapters.py:472\u001b[0m, in \u001b[0;36mRequestsAdapter.get_json\u001b[1;34m(self, url, timeout, headers)\u001b[0m\n\u001b[0;32m    471\u001b[0m \u001b[38;5;28;01mdef\u001b[39;00m \u001b[38;5;21mget_json\u001b[39m(\u001b[38;5;28mself\u001b[39m, url, \u001b[38;5;241m*\u001b[39m, timeout, headers):\n\u001b[1;32m--> 472\u001b[0m     resp \u001b[38;5;241m=\u001b[39m \u001b[38;5;28mself\u001b[39m\u001b[38;5;241m.\u001b[39m_request(url, timeout\u001b[38;5;241m=\u001b[39mtimeout, headers\u001b[38;5;241m=\u001b[39mheaders)\n\u001b[0;32m    473\u001b[0m     \u001b[38;5;28;01mtry\u001b[39;00m:\n\u001b[0;32m    474\u001b[0m         \u001b[38;5;28;01mreturn\u001b[39;00m resp\u001b[38;5;241m.\u001b[39mjson()\n",
      "File \u001b[1;32m~\\AppData\\Local\\anaconda3\\Lib\\site-packages\\geopy\\adapters.py:482\u001b[0m, in \u001b[0;36mRequestsAdapter._request\u001b[1;34m(self, url, timeout, headers)\u001b[0m\n\u001b[0;32m    480\u001b[0m \u001b[38;5;28;01mdef\u001b[39;00m \u001b[38;5;21m_request\u001b[39m(\u001b[38;5;28mself\u001b[39m, url, \u001b[38;5;241m*\u001b[39m, timeout, headers):\n\u001b[0;32m    481\u001b[0m     \u001b[38;5;28;01mtry\u001b[39;00m:\n\u001b[1;32m--> 482\u001b[0m         resp \u001b[38;5;241m=\u001b[39m \u001b[38;5;28mself\u001b[39m\u001b[38;5;241m.\u001b[39msession\u001b[38;5;241m.\u001b[39mget(url, timeout\u001b[38;5;241m=\u001b[39mtimeout, headers\u001b[38;5;241m=\u001b[39mheaders)\n\u001b[0;32m    483\u001b[0m     \u001b[38;5;28;01mexcept\u001b[39;00m \u001b[38;5;167;01mException\u001b[39;00m \u001b[38;5;28;01mas\u001b[39;00m error:\n\u001b[0;32m    484\u001b[0m         message \u001b[38;5;241m=\u001b[39m \u001b[38;5;28mstr\u001b[39m(error)\n",
      "File \u001b[1;32m~\\AppData\\Local\\anaconda3\\Lib\\site-packages\\requests\\sessions.py:602\u001b[0m, in \u001b[0;36mSession.get\u001b[1;34m(self, url, **kwargs)\u001b[0m\n\u001b[0;32m    594\u001b[0m \u001b[38;5;250m\u001b[39m\u001b[38;5;124mr\u001b[39m\u001b[38;5;124;03m\"\"\"Sends a GET request. Returns :class:`Response` object.\u001b[39;00m\n\u001b[0;32m    595\u001b[0m \n\u001b[0;32m    596\u001b[0m \u001b[38;5;124;03m:param url: URL for the new :class:`Request` object.\u001b[39;00m\n\u001b[0;32m    597\u001b[0m \u001b[38;5;124;03m:param \\*\\*kwargs: Optional arguments that ``request`` takes.\u001b[39;00m\n\u001b[0;32m    598\u001b[0m \u001b[38;5;124;03m:rtype: requests.Response\u001b[39;00m\n\u001b[0;32m    599\u001b[0m \u001b[38;5;124;03m\"\"\"\u001b[39;00m\n\u001b[0;32m    601\u001b[0m kwargs\u001b[38;5;241m.\u001b[39msetdefault(\u001b[38;5;124m\"\u001b[39m\u001b[38;5;124mallow_redirects\u001b[39m\u001b[38;5;124m\"\u001b[39m, \u001b[38;5;28;01mTrue\u001b[39;00m)\n\u001b[1;32m--> 602\u001b[0m \u001b[38;5;28;01mreturn\u001b[39;00m \u001b[38;5;28mself\u001b[39m\u001b[38;5;241m.\u001b[39mrequest(\u001b[38;5;124m\"\u001b[39m\u001b[38;5;124mGET\u001b[39m\u001b[38;5;124m\"\u001b[39m, url, \u001b[38;5;241m*\u001b[39m\u001b[38;5;241m*\u001b[39mkwargs)\n",
      "File \u001b[1;32m~\\AppData\\Local\\anaconda3\\Lib\\site-packages\\requests\\sessions.py:589\u001b[0m, in \u001b[0;36mSession.request\u001b[1;34m(self, method, url, params, data, headers, cookies, files, auth, timeout, allow_redirects, proxies, hooks, stream, verify, cert, json)\u001b[0m\n\u001b[0;32m    584\u001b[0m send_kwargs \u001b[38;5;241m=\u001b[39m {\n\u001b[0;32m    585\u001b[0m     \u001b[38;5;124m\"\u001b[39m\u001b[38;5;124mtimeout\u001b[39m\u001b[38;5;124m\"\u001b[39m: timeout,\n\u001b[0;32m    586\u001b[0m     \u001b[38;5;124m\"\u001b[39m\u001b[38;5;124mallow_redirects\u001b[39m\u001b[38;5;124m\"\u001b[39m: allow_redirects,\n\u001b[0;32m    587\u001b[0m }\n\u001b[0;32m    588\u001b[0m send_kwargs\u001b[38;5;241m.\u001b[39mupdate(settings)\n\u001b[1;32m--> 589\u001b[0m resp \u001b[38;5;241m=\u001b[39m \u001b[38;5;28mself\u001b[39m\u001b[38;5;241m.\u001b[39msend(prep, \u001b[38;5;241m*\u001b[39m\u001b[38;5;241m*\u001b[39msend_kwargs)\n\u001b[0;32m    591\u001b[0m \u001b[38;5;28;01mreturn\u001b[39;00m resp\n",
      "File \u001b[1;32m~\\AppData\\Local\\anaconda3\\Lib\\site-packages\\requests\\sessions.py:703\u001b[0m, in \u001b[0;36mSession.send\u001b[1;34m(self, request, **kwargs)\u001b[0m\n\u001b[0;32m    700\u001b[0m start \u001b[38;5;241m=\u001b[39m preferred_clock()\n\u001b[0;32m    702\u001b[0m \u001b[38;5;66;03m# Send the request\u001b[39;00m\n\u001b[1;32m--> 703\u001b[0m r \u001b[38;5;241m=\u001b[39m adapter\u001b[38;5;241m.\u001b[39msend(request, \u001b[38;5;241m*\u001b[39m\u001b[38;5;241m*\u001b[39mkwargs)\n\u001b[0;32m    705\u001b[0m \u001b[38;5;66;03m# Total elapsed time of the request (approximately)\u001b[39;00m\n\u001b[0;32m    706\u001b[0m elapsed \u001b[38;5;241m=\u001b[39m preferred_clock() \u001b[38;5;241m-\u001b[39m start\n",
      "File \u001b[1;32m~\\AppData\\Local\\anaconda3\\Lib\\site-packages\\requests\\adapters.py:667\u001b[0m, in \u001b[0;36mHTTPAdapter.send\u001b[1;34m(self, request, stream, timeout, verify, cert, proxies)\u001b[0m\n\u001b[0;32m    664\u001b[0m     timeout \u001b[38;5;241m=\u001b[39m TimeoutSauce(connect\u001b[38;5;241m=\u001b[39mtimeout, read\u001b[38;5;241m=\u001b[39mtimeout)\n\u001b[0;32m    666\u001b[0m \u001b[38;5;28;01mtry\u001b[39;00m:\n\u001b[1;32m--> 667\u001b[0m     resp \u001b[38;5;241m=\u001b[39m conn\u001b[38;5;241m.\u001b[39murlopen(\n\u001b[0;32m    668\u001b[0m         method\u001b[38;5;241m=\u001b[39mrequest\u001b[38;5;241m.\u001b[39mmethod,\n\u001b[0;32m    669\u001b[0m         url\u001b[38;5;241m=\u001b[39murl,\n\u001b[0;32m    670\u001b[0m         body\u001b[38;5;241m=\u001b[39mrequest\u001b[38;5;241m.\u001b[39mbody,\n\u001b[0;32m    671\u001b[0m         headers\u001b[38;5;241m=\u001b[39mrequest\u001b[38;5;241m.\u001b[39mheaders,\n\u001b[0;32m    672\u001b[0m         redirect\u001b[38;5;241m=\u001b[39m\u001b[38;5;28;01mFalse\u001b[39;00m,\n\u001b[0;32m    673\u001b[0m         assert_same_host\u001b[38;5;241m=\u001b[39m\u001b[38;5;28;01mFalse\u001b[39;00m,\n\u001b[0;32m    674\u001b[0m         preload_content\u001b[38;5;241m=\u001b[39m\u001b[38;5;28;01mFalse\u001b[39;00m,\n\u001b[0;32m    675\u001b[0m         decode_content\u001b[38;5;241m=\u001b[39m\u001b[38;5;28;01mFalse\u001b[39;00m,\n\u001b[0;32m    676\u001b[0m         retries\u001b[38;5;241m=\u001b[39m\u001b[38;5;28mself\u001b[39m\u001b[38;5;241m.\u001b[39mmax_retries,\n\u001b[0;32m    677\u001b[0m         timeout\u001b[38;5;241m=\u001b[39mtimeout,\n\u001b[0;32m    678\u001b[0m         chunked\u001b[38;5;241m=\u001b[39mchunked,\n\u001b[0;32m    679\u001b[0m     )\n\u001b[0;32m    681\u001b[0m \u001b[38;5;28;01mexcept\u001b[39;00m (ProtocolError, \u001b[38;5;167;01mOSError\u001b[39;00m) \u001b[38;5;28;01mas\u001b[39;00m err:\n\u001b[0;32m    682\u001b[0m     \u001b[38;5;28;01mraise\u001b[39;00m \u001b[38;5;167;01mConnectionError\u001b[39;00m(err, request\u001b[38;5;241m=\u001b[39mrequest)\n",
      "File \u001b[1;32m~\\AppData\\Local\\anaconda3\\Lib\\site-packages\\urllib3\\connectionpool.py:789\u001b[0m, in \u001b[0;36mHTTPConnectionPool.urlopen\u001b[1;34m(self, method, url, body, headers, retries, redirect, assert_same_host, timeout, pool_timeout, release_conn, chunked, body_pos, preload_content, decode_content, **response_kw)\u001b[0m\n\u001b[0;32m    786\u001b[0m response_conn \u001b[38;5;241m=\u001b[39m conn \u001b[38;5;28;01mif\u001b[39;00m \u001b[38;5;129;01mnot\u001b[39;00m release_conn \u001b[38;5;28;01melse\u001b[39;00m \u001b[38;5;28;01mNone\u001b[39;00m\n\u001b[0;32m    788\u001b[0m \u001b[38;5;66;03m# Make the request on the HTTPConnection object\u001b[39;00m\n\u001b[1;32m--> 789\u001b[0m response \u001b[38;5;241m=\u001b[39m \u001b[38;5;28mself\u001b[39m\u001b[38;5;241m.\u001b[39m_make_request(\n\u001b[0;32m    790\u001b[0m     conn,\n\u001b[0;32m    791\u001b[0m     method,\n\u001b[0;32m    792\u001b[0m     url,\n\u001b[0;32m    793\u001b[0m     timeout\u001b[38;5;241m=\u001b[39mtimeout_obj,\n\u001b[0;32m    794\u001b[0m     body\u001b[38;5;241m=\u001b[39mbody,\n\u001b[0;32m    795\u001b[0m     headers\u001b[38;5;241m=\u001b[39mheaders,\n\u001b[0;32m    796\u001b[0m     chunked\u001b[38;5;241m=\u001b[39mchunked,\n\u001b[0;32m    797\u001b[0m     retries\u001b[38;5;241m=\u001b[39mretries,\n\u001b[0;32m    798\u001b[0m     response_conn\u001b[38;5;241m=\u001b[39mresponse_conn,\n\u001b[0;32m    799\u001b[0m     preload_content\u001b[38;5;241m=\u001b[39mpreload_content,\n\u001b[0;32m    800\u001b[0m     decode_content\u001b[38;5;241m=\u001b[39mdecode_content,\n\u001b[0;32m    801\u001b[0m     \u001b[38;5;241m*\u001b[39m\u001b[38;5;241m*\u001b[39mresponse_kw,\n\u001b[0;32m    802\u001b[0m )\n\u001b[0;32m    804\u001b[0m \u001b[38;5;66;03m# Everything went great!\u001b[39;00m\n\u001b[0;32m    805\u001b[0m clean_exit \u001b[38;5;241m=\u001b[39m \u001b[38;5;28;01mTrue\u001b[39;00m\n",
      "File \u001b[1;32m~\\AppData\\Local\\anaconda3\\Lib\\site-packages\\urllib3\\connectionpool.py:536\u001b[0m, in \u001b[0;36mHTTPConnectionPool._make_request\u001b[1;34m(self, conn, method, url, body, headers, retries, timeout, chunked, response_conn, preload_content, decode_content, enforce_content_length)\u001b[0m\n\u001b[0;32m    534\u001b[0m \u001b[38;5;66;03m# Receive the response from the server\u001b[39;00m\n\u001b[0;32m    535\u001b[0m \u001b[38;5;28;01mtry\u001b[39;00m:\n\u001b[1;32m--> 536\u001b[0m     response \u001b[38;5;241m=\u001b[39m conn\u001b[38;5;241m.\u001b[39mgetresponse()\n\u001b[0;32m    537\u001b[0m \u001b[38;5;28;01mexcept\u001b[39;00m (BaseSSLError, \u001b[38;5;167;01mOSError\u001b[39;00m) \u001b[38;5;28;01mas\u001b[39;00m e:\n\u001b[0;32m    538\u001b[0m     \u001b[38;5;28mself\u001b[39m\u001b[38;5;241m.\u001b[39m_raise_timeout(err\u001b[38;5;241m=\u001b[39me, url\u001b[38;5;241m=\u001b[39murl, timeout_value\u001b[38;5;241m=\u001b[39mread_timeout)\n",
      "File \u001b[1;32m~\\AppData\\Local\\anaconda3\\Lib\\site-packages\\urllib3\\connection.py:507\u001b[0m, in \u001b[0;36mHTTPConnection.getresponse\u001b[1;34m(self)\u001b[0m\n\u001b[0;32m    504\u001b[0m \u001b[38;5;28;01mfrom\u001b[39;00m \u001b[38;5;21;01m.\u001b[39;00m\u001b[38;5;21;01mresponse\u001b[39;00m \u001b[38;5;28;01mimport\u001b[39;00m HTTPResponse\n\u001b[0;32m    506\u001b[0m \u001b[38;5;66;03m# Get the response from http.client.HTTPConnection\u001b[39;00m\n\u001b[1;32m--> 507\u001b[0m httplib_response \u001b[38;5;241m=\u001b[39m \u001b[38;5;28msuper\u001b[39m()\u001b[38;5;241m.\u001b[39mgetresponse()\n\u001b[0;32m    509\u001b[0m \u001b[38;5;28;01mtry\u001b[39;00m:\n\u001b[0;32m    510\u001b[0m     assert_header_parsing(httplib_response\u001b[38;5;241m.\u001b[39mmsg)\n",
      "File \u001b[1;32m~\\AppData\\Local\\anaconda3\\Lib\\http\\client.py:1428\u001b[0m, in \u001b[0;36mHTTPConnection.getresponse\u001b[1;34m(self)\u001b[0m\n\u001b[0;32m   1426\u001b[0m \u001b[38;5;28;01mtry\u001b[39;00m:\n\u001b[0;32m   1427\u001b[0m     \u001b[38;5;28;01mtry\u001b[39;00m:\n\u001b[1;32m-> 1428\u001b[0m         response\u001b[38;5;241m.\u001b[39mbegin()\n\u001b[0;32m   1429\u001b[0m     \u001b[38;5;28;01mexcept\u001b[39;00m \u001b[38;5;167;01mConnectionError\u001b[39;00m:\n\u001b[0;32m   1430\u001b[0m         \u001b[38;5;28mself\u001b[39m\u001b[38;5;241m.\u001b[39mclose()\n",
      "File \u001b[1;32m~\\AppData\\Local\\anaconda3\\Lib\\http\\client.py:331\u001b[0m, in \u001b[0;36mHTTPResponse.begin\u001b[1;34m(self)\u001b[0m\n\u001b[0;32m    329\u001b[0m \u001b[38;5;66;03m# read until we get a non-100 response\u001b[39;00m\n\u001b[0;32m    330\u001b[0m \u001b[38;5;28;01mwhile\u001b[39;00m \u001b[38;5;28;01mTrue\u001b[39;00m:\n\u001b[1;32m--> 331\u001b[0m     version, status, reason \u001b[38;5;241m=\u001b[39m \u001b[38;5;28mself\u001b[39m\u001b[38;5;241m.\u001b[39m_read_status()\n\u001b[0;32m    332\u001b[0m     \u001b[38;5;28;01mif\u001b[39;00m status \u001b[38;5;241m!=\u001b[39m CONTINUE:\n\u001b[0;32m    333\u001b[0m         \u001b[38;5;28;01mbreak\u001b[39;00m\n",
      "File \u001b[1;32m~\\AppData\\Local\\anaconda3\\Lib\\http\\client.py:292\u001b[0m, in \u001b[0;36mHTTPResponse._read_status\u001b[1;34m(self)\u001b[0m\n\u001b[0;32m    291\u001b[0m \u001b[38;5;28;01mdef\u001b[39;00m \u001b[38;5;21m_read_status\u001b[39m(\u001b[38;5;28mself\u001b[39m):\n\u001b[1;32m--> 292\u001b[0m     line \u001b[38;5;241m=\u001b[39m \u001b[38;5;28mstr\u001b[39m(\u001b[38;5;28mself\u001b[39m\u001b[38;5;241m.\u001b[39mfp\u001b[38;5;241m.\u001b[39mreadline(_MAXLINE \u001b[38;5;241m+\u001b[39m \u001b[38;5;241m1\u001b[39m), \u001b[38;5;124m\"\u001b[39m\u001b[38;5;124miso-8859-1\u001b[39m\u001b[38;5;124m\"\u001b[39m)\n\u001b[0;32m    293\u001b[0m     \u001b[38;5;28;01mif\u001b[39;00m \u001b[38;5;28mlen\u001b[39m(line) \u001b[38;5;241m>\u001b[39m _MAXLINE:\n\u001b[0;32m    294\u001b[0m         \u001b[38;5;28;01mraise\u001b[39;00m LineTooLong(\u001b[38;5;124m\"\u001b[39m\u001b[38;5;124mstatus line\u001b[39m\u001b[38;5;124m\"\u001b[39m)\n",
      "File \u001b[1;32m~\\AppData\\Local\\anaconda3\\Lib\\socket.py:720\u001b[0m, in \u001b[0;36mSocketIO.readinto\u001b[1;34m(self, b)\u001b[0m\n\u001b[0;32m    718\u001b[0m \u001b[38;5;28;01mwhile\u001b[39;00m \u001b[38;5;28;01mTrue\u001b[39;00m:\n\u001b[0;32m    719\u001b[0m     \u001b[38;5;28;01mtry\u001b[39;00m:\n\u001b[1;32m--> 720\u001b[0m         \u001b[38;5;28;01mreturn\u001b[39;00m \u001b[38;5;28mself\u001b[39m\u001b[38;5;241m.\u001b[39m_sock\u001b[38;5;241m.\u001b[39mrecv_into(b)\n\u001b[0;32m    721\u001b[0m     \u001b[38;5;28;01mexcept\u001b[39;00m timeout:\n\u001b[0;32m    722\u001b[0m         \u001b[38;5;28mself\u001b[39m\u001b[38;5;241m.\u001b[39m_timeout_occurred \u001b[38;5;241m=\u001b[39m \u001b[38;5;28;01mTrue\u001b[39;00m\n",
      "File \u001b[1;32m~\\AppData\\Local\\anaconda3\\Lib\\ssl.py:1251\u001b[0m, in \u001b[0;36mSSLSocket.recv_into\u001b[1;34m(self, buffer, nbytes, flags)\u001b[0m\n\u001b[0;32m   1247\u001b[0m     \u001b[38;5;28;01mif\u001b[39;00m flags \u001b[38;5;241m!=\u001b[39m \u001b[38;5;241m0\u001b[39m:\n\u001b[0;32m   1248\u001b[0m         \u001b[38;5;28;01mraise\u001b[39;00m \u001b[38;5;167;01mValueError\u001b[39;00m(\n\u001b[0;32m   1249\u001b[0m           \u001b[38;5;124m\"\u001b[39m\u001b[38;5;124mnon-zero flags not allowed in calls to recv_into() on \u001b[39m\u001b[38;5;132;01m%s\u001b[39;00m\u001b[38;5;124m\"\u001b[39m \u001b[38;5;241m%\u001b[39m\n\u001b[0;32m   1250\u001b[0m           \u001b[38;5;28mself\u001b[39m\u001b[38;5;241m.\u001b[39m\u001b[38;5;18m__class__\u001b[39m)\n\u001b[1;32m-> 1251\u001b[0m     \u001b[38;5;28;01mreturn\u001b[39;00m \u001b[38;5;28mself\u001b[39m\u001b[38;5;241m.\u001b[39mread(nbytes, buffer)\n\u001b[0;32m   1252\u001b[0m \u001b[38;5;28;01melse\u001b[39;00m:\n\u001b[0;32m   1253\u001b[0m     \u001b[38;5;28;01mreturn\u001b[39;00m \u001b[38;5;28msuper\u001b[39m()\u001b[38;5;241m.\u001b[39mrecv_into(buffer, nbytes, flags)\n",
      "File \u001b[1;32m~\\AppData\\Local\\anaconda3\\Lib\\ssl.py:1103\u001b[0m, in \u001b[0;36mSSLSocket.read\u001b[1;34m(self, len, buffer)\u001b[0m\n\u001b[0;32m   1101\u001b[0m \u001b[38;5;28;01mtry\u001b[39;00m:\n\u001b[0;32m   1102\u001b[0m     \u001b[38;5;28;01mif\u001b[39;00m buffer \u001b[38;5;129;01mis\u001b[39;00m \u001b[38;5;129;01mnot\u001b[39;00m \u001b[38;5;28;01mNone\u001b[39;00m:\n\u001b[1;32m-> 1103\u001b[0m         \u001b[38;5;28;01mreturn\u001b[39;00m \u001b[38;5;28mself\u001b[39m\u001b[38;5;241m.\u001b[39m_sslobj\u001b[38;5;241m.\u001b[39mread(\u001b[38;5;28mlen\u001b[39m, buffer)\n\u001b[0;32m   1104\u001b[0m     \u001b[38;5;28;01melse\u001b[39;00m:\n\u001b[0;32m   1105\u001b[0m         \u001b[38;5;28;01mreturn\u001b[39;00m \u001b[38;5;28mself\u001b[39m\u001b[38;5;241m.\u001b[39m_sslobj\u001b[38;5;241m.\u001b[39mread(\u001b[38;5;28mlen\u001b[39m)\n",
      "\u001b[1;31mKeyboardInterrupt\u001b[0m: "
     ]
    }
   ],
   "source": [
    "coordinates = geocode(consolidated_data, 'address')\n",
    "\n",
    "consolidated_data[\"lat\"] = coordinates[0]\n",
    "consolidated_data[\"lon\"] = coordinates[1]"
   ]
  },
  {
   "cell_type": "markdown",
   "id": "1d0b97bf-d399-4768-985a-d5a384a8123e",
   "metadata": {},
   "source": [
    "### Check outliers"
   ]
  },
  {
   "cell_type": "code",
   "execution_count": null,
   "id": "5b05b68a-dd99-49d9-8c64-0d1579a2f13a",
   "metadata": {},
   "outputs": [],
   "source": [
    "#Load consolidated dataset as geopandas object\n",
    "gdf = geopandas.GeoDataFrame(\n",
    "    consolidated_data, geometry=geopandas.points_from_xy(consolidated_data.lon, consolidated_data.lat), crs=\"EPSG:4326\"\n",
    ")"
   ]
  },
  {
   "cell_type": "code",
   "execution_count": null,
   "id": "d0956048-4a94-4964-8964-9cda1a238240",
   "metadata": {},
   "outputs": [],
   "source": [
    "cp = geopandas.read_file(\"data/boundaries/College_Park_City_Limits.shp\")\n",
    "cp = cp.to_crs(4326)\n",
    "cp.crs"
   ]
  },
  {
   "cell_type": "code",
   "execution_count": null,
   "id": "3b16071c-9131-4882-b24e-aca3eb5b6372",
   "metadata": {},
   "outputs": [],
   "source": [
    "ax = cp.plot(color=\"white\", edgecolor=\"black\")\n",
    "\n",
    "# We can now plot our ``GeoDataFrame``.\n",
    "gdf.plot(ax=ax, color=\"red\")\n",
    "\n",
    "plt.show()"
   ]
  },
  {
   "cell_type": "markdown",
   "id": "7d3de9e6-9153-4ddb-8734-b7b594c9d55b",
   "metadata": {},
   "source": [
    "Since some data seem to be out of the range, let's look at the coordinates sorted in descending order."
   ]
  },
  {
   "cell_type": "code",
   "execution_count": null,
   "id": "8c9fa74a-e269-4cbc-8458-c3fa2c52ba29",
   "metadata": {},
   "outputs": [],
   "source": [
    "consolidated_data.sort_values(by='lon', ascending=False).head(5)"
   ]
  },
  {
   "cell_type": "code",
   "execution_count": null,
   "id": "e91242d3-a7bd-4c08-a3ac-5650c3b07cff",
   "metadata": {},
   "outputs": [],
   "source": [
    "consolidated_data = consolidated_data.drop(index=108)\n",
    "consolidated_data.sort_values(by='lon', ascending=False).head(5)"
   ]
  },
  {
   "cell_type": "code",
   "execution_count": null,
   "id": "62361ec1-21d8-4b54-9311-1ca2dfb85fd1",
   "metadata": {},
   "outputs": [],
   "source": [
    "gdf = geopandas.GeoDataFrame(\n",
    "    consolidated_data, geometry=geopandas.points_from_xy(consolidated_data.lon, consolidated_data.lat), crs=\"EPSG:4326\"\n",
    ")"
   ]
  },
  {
   "cell_type": "code",
   "execution_count": null,
   "id": "483cb3a9-f976-48b3-ac4d-ed84ea731ef2",
   "metadata": {},
   "outputs": [],
   "source": [
    "ax = cp.plot(color=\"white\", edgecolor=\"black\")\n",
    "\n",
    "# We can now plot our ``GeoDataFrame``.\n",
    "gdf.plot(ax=ax, color=\"red\")\n",
    "\n",
    "plt.show()"
   ]
  },
  {
   "cell_type": "markdown",
   "id": "02056b14-2898-4711-bb11-03115ff096e7",
   "metadata": {},
   "source": [
    "# Save consolidated data"
   ]
  },
  {
   "cell_type": "code",
   "execution_count": null,
   "id": "804f3377-4108-4d23-8bb6-cde7a5c9e9b8",
   "metadata": {},
   "outputs": [],
   "source": [
    "consolidated_data.to_csv('consolidated_data.csv')"
   ]
  },
  {
   "cell_type": "code",
   "execution_count": null,
   "id": "ddc6e901-4581-4969-839e-d118cb67cc07",
   "metadata": {},
   "outputs": [],
   "source": [
    "species_list = []\n",
    "species_list.append(list(consolidated_data['species_1']))\n",
    "species_list.append(list(consolidated_data['species_2']))\n",
    "species_list.append(list(consolidated_data['species_3']))\n",
    "species_list.append(list(consolidated_data['species_4']))"
   ]
  },
  {
   "cell_type": "code",
   "execution_count": null,
   "id": "496d4622-931d-4676-99ed-8a7e6d84993c",
   "metadata": {},
   "outputs": [],
   "source": [
    "species_list[3][2] == 'Nan'"
   ]
  },
  {
   "cell_type": "code",
   "execution_count": null,
   "id": "438f02e2-f2de-4166-87c2-2becdc87bb48",
   "metadata": {},
   "outputs": [],
   "source": [
    "species = []\n",
    "for i in species_list:\n",
    "    for elem in i:\n",
    "        if elem != 'Nan':\n",
    "            species.append(elem.lstrip(' '))"
   ]
  },
  {
   "cell_type": "code",
   "execution_count": null,
   "id": "13472ec6-7b04-46c6-a9d2-86b40365c8e2",
   "metadata": {},
   "outputs": [],
   "source": [
    "species_df = pd.DataFrame(species, columns=['Species'])"
   ]
  },
  {
   "cell_type": "code",
   "execution_count": null,
   "id": "a521110e-1f51-4ca7-af67-97d56148bbed",
   "metadata": {},
   "outputs": [],
   "source": [
    "species_df = species_df.groupby('Species')['Species'].count()"
   ]
  },
  {
   "cell_type": "code",
   "execution_count": null,
   "id": "26ec063c-47f5-4ee5-b577-d7d87ac7877e",
   "metadata": {},
   "outputs": [],
   "source": [
    "species_df = pd.DataFrame(species_df)"
   ]
  },
  {
   "cell_type": "code",
   "execution_count": null,
   "id": "11343c20-6ac5-475b-affb-d79d58df324c",
   "metadata": {},
   "outputs": [],
   "source": [
    "species_df.columns = ['Count']\n",
    "species_df"
   ]
  },
  {
   "cell_type": "code",
   "execution_count": null,
   "id": "ea206939-de66-4a88-b411-8adce3e04881",
   "metadata": {},
   "outputs": [],
   "source": [
    "species_df.to_csv('total_species.csv')"
   ]
  }
 ],
 "metadata": {
  "kernelspec": {
   "display_name": "Python 3 (ipykernel)",
   "language": "python",
   "name": "python3"
  },
  "language_info": {
   "codemirror_mode": {
    "name": "ipython",
    "version": 3
   },
   "file_extension": ".py",
   "mimetype": "text/x-python",
   "name": "python",
   "nbconvert_exporter": "python",
   "pygments_lexer": "ipython3",
   "version": "3.12.7"
  }
 },
 "nbformat": 4,
 "nbformat_minor": 5
}
